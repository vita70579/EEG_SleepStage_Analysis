{
 "cells": [
  {
   "cell_type": "code",
   "execution_count": 37,
   "metadata": {},
   "outputs": [],
   "source": [
    "%run Package_AND_Parameter.ipynb\n",
    "%run Feature_Selection_Methods.ipynb\n",
    "%run Smoothing.ipynb"
   ]
  },
  {
   "cell_type": "code",
   "execution_count": 2,
   "metadata": {
    "scrolled": true
   },
   "outputs": [
    {
     "name": "stderr",
     "output_type": "stream",
     "text": [
      "C:\\Users\\vita7\\Anaconda3\\lib\\site-packages\\pandas\\core\\generic.py:3946: PerformanceWarning: dropping on a non-lexsorted multi-index without a level parameter may impact performance.\n",
      "  new_axis = axis.drop(labels, errors=errors)\n"
     ]
    }
   ],
   "source": [
    "tr_df = pd.read_csv('training_dataframe.csv', header=[0,1], index_col=[0,1])\n",
    "tr_df.index.names = ['epoch','condition']\n",
    "tr_df.reset_index(level = 1,inplace = True)\n",
    "\n",
    "train_X = tr_df.drop(columns=['condition'])\n",
    "train_Y = tr_df['condition']"
   ]
  },
  {
   "cell_type": "code",
   "execution_count": 3,
   "metadata": {},
   "outputs": [
    {
     "data": {
      "text/html": [
       "<div>\n",
       "<style scoped>\n",
       "    .dataframe tbody tr th:only-of-type {\n",
       "        vertical-align: middle;\n",
       "    }\n",
       "\n",
       "    .dataframe tbody tr th {\n",
       "        vertical-align: top;\n",
       "    }\n",
       "\n",
       "    .dataframe thead tr th {\n",
       "        text-align: left;\n",
       "    }\n",
       "\n",
       "    .dataframe thead tr:last-of-type th {\n",
       "        text-align: right;\n",
       "    }\n",
       "</style>\n",
       "<table border=\"1\" class=\"dataframe\">\n",
       "  <thead>\n",
       "    <tr>\n",
       "      <th>Function</th>\n",
       "      <th>condition</th>\n",
       "      <th colspan=\"9\" halign=\"left\">STD</th>\n",
       "      <th>...</th>\n",
       "      <th colspan=\"4\" halign=\"left\">AR_Coe_7</th>\n",
       "      <th colspan=\"6\" halign=\"left\">AR_Coe_8</th>\n",
       "    </tr>\n",
       "    <tr>\n",
       "      <th>Band</th>\n",
       "      <th></th>\n",
       "      <th>EEG Fpz-Cz</th>\n",
       "      <th>EEG Fpz-Cz Delta</th>\n",
       "      <th>EEG Fpz-Cz Theta</th>\n",
       "      <th>EEG Fpz-Cz Alpha</th>\n",
       "      <th>EEG Fpz-Cz Sigma</th>\n",
       "      <th>EEG Fpz-Cz Beta</th>\n",
       "      <th>EEG Fpz-Cz DOR</th>\n",
       "      <th>EEG Fpz-Cz TOR</th>\n",
       "      <th>EEG Fpz-Cz AOR</th>\n",
       "      <th>...</th>\n",
       "      <th>EEG Fpz-Cz Theta</th>\n",
       "      <th>EEG Fpz-Cz Alpha</th>\n",
       "      <th>EEG Fpz-Cz Sigma</th>\n",
       "      <th>EEG Fpz-Cz Beta</th>\n",
       "      <th>EEG Fpz-Cz</th>\n",
       "      <th>EEG Fpz-Cz Delta</th>\n",
       "      <th>EEG Fpz-Cz Theta</th>\n",
       "      <th>EEG Fpz-Cz Alpha</th>\n",
       "      <th>EEG Fpz-Cz Sigma</th>\n",
       "      <th>EEG Fpz-Cz Beta</th>\n",
       "    </tr>\n",
       "    <tr>\n",
       "      <th>epoch</th>\n",
       "      <th></th>\n",
       "      <th></th>\n",
       "      <th></th>\n",
       "      <th></th>\n",
       "      <th></th>\n",
       "      <th></th>\n",
       "      <th></th>\n",
       "      <th></th>\n",
       "      <th></th>\n",
       "      <th></th>\n",
       "      <th></th>\n",
       "      <th></th>\n",
       "      <th></th>\n",
       "      <th></th>\n",
       "      <th></th>\n",
       "      <th></th>\n",
       "      <th></th>\n",
       "      <th></th>\n",
       "      <th></th>\n",
       "      <th></th>\n",
       "      <th></th>\n",
       "    </tr>\n",
       "  </thead>\n",
       "  <tbody>\n",
       "    <tr>\n",
       "      <td>2748</td>\n",
       "      <td>Sleep stage W</td>\n",
       "      <td>26.927006</td>\n",
       "      <td>24.277687</td>\n",
       "      <td>7.457695</td>\n",
       "      <td>3.500960</td>\n",
       "      <td>2.997098</td>\n",
       "      <td>4.092367</td>\n",
       "      <td>0.901611</td>\n",
       "      <td>0.276960</td>\n",
       "      <td>0.130017</td>\n",
       "      <td>...</td>\n",
       "      <td>0.269376</td>\n",
       "      <td>0.020181</td>\n",
       "      <td>-0.010638</td>\n",
       "      <td>0.026791</td>\n",
       "      <td>-0.132380</td>\n",
       "      <td>-0.090111</td>\n",
       "      <td>-0.640106</td>\n",
       "      <td>0.142353</td>\n",
       "      <td>-0.053801</td>\n",
       "      <td>-0.063631</td>\n",
       "    </tr>\n",
       "    <tr>\n",
       "      <td>2749</td>\n",
       "      <td>Sleep stage W</td>\n",
       "      <td>25.959272</td>\n",
       "      <td>24.305769</td>\n",
       "      <td>8.454548</td>\n",
       "      <td>2.866176</td>\n",
       "      <td>2.827287</td>\n",
       "      <td>4.223930</td>\n",
       "      <td>0.936304</td>\n",
       "      <td>0.325685</td>\n",
       "      <td>0.110410</td>\n",
       "      <td>...</td>\n",
       "      <td>0.371517</td>\n",
       "      <td>0.333159</td>\n",
       "      <td>0.046058</td>\n",
       "      <td>2.753195</td>\n",
       "      <td>-0.131894</td>\n",
       "      <td>-0.658821</td>\n",
       "      <td>-0.772634</td>\n",
       "      <td>0.051013</td>\n",
       "      <td>-0.082941</td>\n",
       "      <td>-0.698228</td>\n",
       "    </tr>\n",
       "    <tr>\n",
       "      <td>2750</td>\n",
       "      <td>Sleep stage W</td>\n",
       "      <td>30.553010</td>\n",
       "      <td>28.694277</td>\n",
       "      <td>8.191651</td>\n",
       "      <td>3.021272</td>\n",
       "      <td>2.591944</td>\n",
       "      <td>3.603918</td>\n",
       "      <td>0.939164</td>\n",
       "      <td>0.268113</td>\n",
       "      <td>0.098886</td>\n",
       "      <td>...</td>\n",
       "      <td>0.380113</td>\n",
       "      <td>0.953703</td>\n",
       "      <td>0.102628</td>\n",
       "      <td>2.827717</td>\n",
       "      <td>-0.109176</td>\n",
       "      <td>-0.647536</td>\n",
       "      <td>-0.738703</td>\n",
       "      <td>-0.108487</td>\n",
       "      <td>-0.081871</td>\n",
       "      <td>-0.722311</td>\n",
       "    </tr>\n",
       "    <tr>\n",
       "      <td>2751</td>\n",
       "      <td>Sleep stage W</td>\n",
       "      <td>24.702906</td>\n",
       "      <td>23.380577</td>\n",
       "      <td>7.912746</td>\n",
       "      <td>2.867790</td>\n",
       "      <td>2.623439</td>\n",
       "      <td>3.752866</td>\n",
       "      <td>0.946471</td>\n",
       "      <td>0.320316</td>\n",
       "      <td>0.116091</td>\n",
       "      <td>...</td>\n",
       "      <td>0.377148</td>\n",
       "      <td>0.926918</td>\n",
       "      <td>0.238291</td>\n",
       "      <td>2.907600</td>\n",
       "      <td>-0.174530</td>\n",
       "      <td>-0.636907</td>\n",
       "      <td>-0.761361</td>\n",
       "      <td>-0.089840</td>\n",
       "      <td>-0.148386</td>\n",
       "      <td>-0.729589</td>\n",
       "    </tr>\n",
       "    <tr>\n",
       "      <td>2752</td>\n",
       "      <td>Sleep stage W</td>\n",
       "      <td>27.000694</td>\n",
       "      <td>25.876028</td>\n",
       "      <td>7.868925</td>\n",
       "      <td>2.902305</td>\n",
       "      <td>2.234328</td>\n",
       "      <td>3.293580</td>\n",
       "      <td>0.958347</td>\n",
       "      <td>0.291434</td>\n",
       "      <td>0.107490</td>\n",
       "      <td>...</td>\n",
       "      <td>0.427124</td>\n",
       "      <td>0.992185</td>\n",
       "      <td>-0.028070</td>\n",
       "      <td>2.720786</td>\n",
       "      <td>-0.099471</td>\n",
       "      <td>-0.637745</td>\n",
       "      <td>-0.748931</td>\n",
       "      <td>-0.118923</td>\n",
       "      <td>-0.052184</td>\n",
       "      <td>-0.708171</td>\n",
       "    </tr>\n",
       "  </tbody>\n",
       "</table>\n",
       "<p>5 rows × 427 columns</p>\n",
       "</div>"
      ],
      "text/plain": [
       "Function      condition        STD                                    \\\n",
       "Band                    EEG Fpz-Cz EEG Fpz-Cz Delta EEG Fpz-Cz Theta   \n",
       "epoch                                                                  \n",
       "2748      Sleep stage W  26.927006        24.277687         7.457695   \n",
       "2749      Sleep stage W  25.959272        24.305769         8.454548   \n",
       "2750      Sleep stage W  30.553010        28.694277         8.191651   \n",
       "2751      Sleep stage W  24.702906        23.380577         7.912746   \n",
       "2752      Sleep stage W  27.000694        25.876028         7.868925   \n",
       "\n",
       "Function                                                                   \\\n",
       "Band     EEG Fpz-Cz Alpha EEG Fpz-Cz Sigma EEG Fpz-Cz Beta EEG Fpz-Cz DOR   \n",
       "epoch                                                                       \n",
       "2748             3.500960         2.997098        4.092367       0.901611   \n",
       "2749             2.866176         2.827287        4.223930       0.936304   \n",
       "2750             3.021272         2.591944        3.603918       0.939164   \n",
       "2751             2.867790         2.623439        3.752866       0.946471   \n",
       "2752             2.902305         2.234328        3.293580       0.958347   \n",
       "\n",
       "Function                                ...         AR_Coe_7                   \\\n",
       "Band     EEG Fpz-Cz TOR EEG Fpz-Cz AOR  ... EEG Fpz-Cz Theta EEG Fpz-Cz Alpha   \n",
       "epoch                                   ...                                     \n",
       "2748           0.276960       0.130017  ...         0.269376         0.020181   \n",
       "2749           0.325685       0.110410  ...         0.371517         0.333159   \n",
       "2750           0.268113       0.098886  ...         0.380113         0.953703   \n",
       "2751           0.320316       0.116091  ...         0.377148         0.926918   \n",
       "2752           0.291434       0.107490  ...         0.427124         0.992185   \n",
       "\n",
       "Function                                    AR_Coe_8                   \\\n",
       "Band     EEG Fpz-Cz Sigma EEG Fpz-Cz Beta EEG Fpz-Cz EEG Fpz-Cz Delta   \n",
       "epoch                                                                   \n",
       "2748            -0.010638        0.026791  -0.132380        -0.090111   \n",
       "2749             0.046058        2.753195  -0.131894        -0.658821   \n",
       "2750             0.102628        2.827717  -0.109176        -0.647536   \n",
       "2751             0.238291        2.907600  -0.174530        -0.636907   \n",
       "2752            -0.028070        2.720786  -0.099471        -0.637745   \n",
       "\n",
       "Function                                                                     \n",
       "Band     EEG Fpz-Cz Theta EEG Fpz-Cz Alpha EEG Fpz-Cz Sigma EEG Fpz-Cz Beta  \n",
       "epoch                                                                        \n",
       "2748            -0.640106         0.142353        -0.053801       -0.063631  \n",
       "2749            -0.772634         0.051013        -0.082941       -0.698228  \n",
       "2750            -0.738703        -0.108487        -0.081871       -0.722311  \n",
       "2751            -0.761361        -0.089840        -0.148386       -0.729589  \n",
       "2752            -0.748931        -0.118923        -0.052184       -0.708171  \n",
       "\n",
       "[5 rows x 427 columns]"
      ]
     },
     "execution_count": 3,
     "metadata": {},
     "output_type": "execute_result"
    }
   ],
   "source": [
    "tr_df.head()"
   ]
  },
  {
   "cell_type": "code",
   "execution_count": 4,
   "metadata": {},
   "outputs": [
    {
     "data": {
      "text/html": [
       "<div>\n",
       "<style scoped>\n",
       "    .dataframe tbody tr th:only-of-type {\n",
       "        vertical-align: middle;\n",
       "    }\n",
       "\n",
       "    .dataframe tbody tr th {\n",
       "        vertical-align: top;\n",
       "    }\n",
       "\n",
       "    .dataframe thead tr th {\n",
       "        text-align: left;\n",
       "    }\n",
       "\n",
       "    .dataframe thead tr:last-of-type th {\n",
       "        text-align: right;\n",
       "    }\n",
       "</style>\n",
       "<table border=\"1\" class=\"dataframe\">\n",
       "  <thead>\n",
       "    <tr>\n",
       "      <th>Function</th>\n",
       "      <th colspan=\"10\" halign=\"left\">STD</th>\n",
       "      <th>...</th>\n",
       "      <th colspan=\"4\" halign=\"left\">AR_Coe_7</th>\n",
       "      <th colspan=\"6\" halign=\"left\">AR_Coe_8</th>\n",
       "    </tr>\n",
       "    <tr>\n",
       "      <th>Band</th>\n",
       "      <th>EEG Fpz-Cz</th>\n",
       "      <th>EEG Fpz-Cz Delta</th>\n",
       "      <th>EEG Fpz-Cz Theta</th>\n",
       "      <th>EEG Fpz-Cz Alpha</th>\n",
       "      <th>EEG Fpz-Cz Sigma</th>\n",
       "      <th>EEG Fpz-Cz Beta</th>\n",
       "      <th>EEG Fpz-Cz DOR</th>\n",
       "      <th>EEG Fpz-Cz TOR</th>\n",
       "      <th>EEG Fpz-Cz AOR</th>\n",
       "      <th>EEG Fpz-Cz SOR</th>\n",
       "      <th>...</th>\n",
       "      <th>EEG Fpz-Cz Theta</th>\n",
       "      <th>EEG Fpz-Cz Alpha</th>\n",
       "      <th>EEG Fpz-Cz Sigma</th>\n",
       "      <th>EEG Fpz-Cz Beta</th>\n",
       "      <th>EEG Fpz-Cz</th>\n",
       "      <th>EEG Fpz-Cz Delta</th>\n",
       "      <th>EEG Fpz-Cz Theta</th>\n",
       "      <th>EEG Fpz-Cz Alpha</th>\n",
       "      <th>EEG Fpz-Cz Sigma</th>\n",
       "      <th>EEG Fpz-Cz Beta</th>\n",
       "    </tr>\n",
       "    <tr>\n",
       "      <th>epoch</th>\n",
       "      <th></th>\n",
       "      <th></th>\n",
       "      <th></th>\n",
       "      <th></th>\n",
       "      <th></th>\n",
       "      <th></th>\n",
       "      <th></th>\n",
       "      <th></th>\n",
       "      <th></th>\n",
       "      <th></th>\n",
       "      <th></th>\n",
       "      <th></th>\n",
       "      <th></th>\n",
       "      <th></th>\n",
       "      <th></th>\n",
       "      <th></th>\n",
       "      <th></th>\n",
       "      <th></th>\n",
       "      <th></th>\n",
       "      <th></th>\n",
       "      <th></th>\n",
       "    </tr>\n",
       "  </thead>\n",
       "  <tbody>\n",
       "    <tr>\n",
       "      <td>2748</td>\n",
       "      <td>26.927006</td>\n",
       "      <td>24.277687</td>\n",
       "      <td>7.457695</td>\n",
       "      <td>3.500960</td>\n",
       "      <td>2.997098</td>\n",
       "      <td>4.092367</td>\n",
       "      <td>0.901611</td>\n",
       "      <td>0.276960</td>\n",
       "      <td>0.130017</td>\n",
       "      <td>0.111305</td>\n",
       "      <td>...</td>\n",
       "      <td>0.269376</td>\n",
       "      <td>0.020181</td>\n",
       "      <td>-0.010638</td>\n",
       "      <td>0.026791</td>\n",
       "      <td>-0.132380</td>\n",
       "      <td>-0.090111</td>\n",
       "      <td>-0.640106</td>\n",
       "      <td>0.142353</td>\n",
       "      <td>-0.053801</td>\n",
       "      <td>-0.063631</td>\n",
       "    </tr>\n",
       "    <tr>\n",
       "      <td>2749</td>\n",
       "      <td>25.959272</td>\n",
       "      <td>24.305769</td>\n",
       "      <td>8.454548</td>\n",
       "      <td>2.866176</td>\n",
       "      <td>2.827287</td>\n",
       "      <td>4.223930</td>\n",
       "      <td>0.936304</td>\n",
       "      <td>0.325685</td>\n",
       "      <td>0.110410</td>\n",
       "      <td>0.108912</td>\n",
       "      <td>...</td>\n",
       "      <td>0.371517</td>\n",
       "      <td>0.333159</td>\n",
       "      <td>0.046058</td>\n",
       "      <td>2.753195</td>\n",
       "      <td>-0.131894</td>\n",
       "      <td>-0.658821</td>\n",
       "      <td>-0.772634</td>\n",
       "      <td>0.051013</td>\n",
       "      <td>-0.082941</td>\n",
       "      <td>-0.698228</td>\n",
       "    </tr>\n",
       "    <tr>\n",
       "      <td>2750</td>\n",
       "      <td>30.553011</td>\n",
       "      <td>28.694277</td>\n",
       "      <td>8.191651</td>\n",
       "      <td>3.021272</td>\n",
       "      <td>2.591944</td>\n",
       "      <td>3.603918</td>\n",
       "      <td>0.939164</td>\n",
       "      <td>0.268113</td>\n",
       "      <td>0.098886</td>\n",
       "      <td>0.084834</td>\n",
       "      <td>...</td>\n",
       "      <td>0.380113</td>\n",
       "      <td>0.953703</td>\n",
       "      <td>0.102628</td>\n",
       "      <td>2.827717</td>\n",
       "      <td>-0.109176</td>\n",
       "      <td>-0.647536</td>\n",
       "      <td>-0.738703</td>\n",
       "      <td>-0.108487</td>\n",
       "      <td>-0.081871</td>\n",
       "      <td>-0.722311</td>\n",
       "    </tr>\n",
       "    <tr>\n",
       "      <td>2751</td>\n",
       "      <td>24.702906</td>\n",
       "      <td>23.380577</td>\n",
       "      <td>7.912746</td>\n",
       "      <td>2.867790</td>\n",
       "      <td>2.623439</td>\n",
       "      <td>3.752866</td>\n",
       "      <td>0.946471</td>\n",
       "      <td>0.320316</td>\n",
       "      <td>0.116091</td>\n",
       "      <td>0.106200</td>\n",
       "      <td>...</td>\n",
       "      <td>0.377148</td>\n",
       "      <td>0.926918</td>\n",
       "      <td>0.238291</td>\n",
       "      <td>2.907600</td>\n",
       "      <td>-0.174530</td>\n",
       "      <td>-0.636907</td>\n",
       "      <td>-0.761361</td>\n",
       "      <td>-0.089840</td>\n",
       "      <td>-0.148386</td>\n",
       "      <td>-0.729589</td>\n",
       "    </tr>\n",
       "    <tr>\n",
       "      <td>2752</td>\n",
       "      <td>27.000694</td>\n",
       "      <td>25.876028</td>\n",
       "      <td>7.868925</td>\n",
       "      <td>2.902305</td>\n",
       "      <td>2.234328</td>\n",
       "      <td>3.293580</td>\n",
       "      <td>0.958347</td>\n",
       "      <td>0.291434</td>\n",
       "      <td>0.107490</td>\n",
       "      <td>0.082751</td>\n",
       "      <td>...</td>\n",
       "      <td>0.427124</td>\n",
       "      <td>0.992185</td>\n",
       "      <td>-0.028070</td>\n",
       "      <td>2.720786</td>\n",
       "      <td>-0.099471</td>\n",
       "      <td>-0.637745</td>\n",
       "      <td>-0.748931</td>\n",
       "      <td>-0.118923</td>\n",
       "      <td>-0.052184</td>\n",
       "      <td>-0.708171</td>\n",
       "    </tr>\n",
       "  </tbody>\n",
       "</table>\n",
       "<p>5 rows × 426 columns</p>\n",
       "</div>"
      ],
      "text/plain": [
       "Function        STD                                                     \\\n",
       "Band     EEG Fpz-Cz EEG Fpz-Cz Delta EEG Fpz-Cz Theta EEG Fpz-Cz Alpha   \n",
       "epoch                                                                    \n",
       "2748      26.927006        24.277687         7.457695         3.500960   \n",
       "2749      25.959272        24.305769         8.454548         2.866176   \n",
       "2750      30.553011        28.694277         8.191651         3.021272   \n",
       "2751      24.702906        23.380577         7.912746         2.867790   \n",
       "2752      27.000694        25.876028         7.868925         2.902305   \n",
       "\n",
       "Function                                                                 \\\n",
       "Band     EEG Fpz-Cz Sigma EEG Fpz-Cz Beta EEG Fpz-Cz DOR EEG Fpz-Cz TOR   \n",
       "epoch                                                                     \n",
       "2748             2.997098        4.092367       0.901611       0.276960   \n",
       "2749             2.827287        4.223930       0.936304       0.325685   \n",
       "2750             2.591944        3.603918       0.939164       0.268113   \n",
       "2751             2.623439        3.752866       0.946471       0.320316   \n",
       "2752             2.234328        3.293580       0.958347       0.291434   \n",
       "\n",
       "Function                                ...         AR_Coe_7                   \\\n",
       "Band     EEG Fpz-Cz AOR EEG Fpz-Cz SOR  ... EEG Fpz-Cz Theta EEG Fpz-Cz Alpha   \n",
       "epoch                                   ...                                     \n",
       "2748           0.130017       0.111305  ...         0.269376         0.020181   \n",
       "2749           0.110410       0.108912  ...         0.371517         0.333159   \n",
       "2750           0.098886       0.084834  ...         0.380113         0.953703   \n",
       "2751           0.116091       0.106200  ...         0.377148         0.926918   \n",
       "2752           0.107490       0.082751  ...         0.427124         0.992185   \n",
       "\n",
       "Function                                    AR_Coe_8                   \\\n",
       "Band     EEG Fpz-Cz Sigma EEG Fpz-Cz Beta EEG Fpz-Cz EEG Fpz-Cz Delta   \n",
       "epoch                                                                   \n",
       "2748            -0.010638        0.026791  -0.132380        -0.090111   \n",
       "2749             0.046058        2.753195  -0.131894        -0.658821   \n",
       "2750             0.102628        2.827717  -0.109176        -0.647536   \n",
       "2751             0.238291        2.907600  -0.174530        -0.636907   \n",
       "2752            -0.028070        2.720786  -0.099471        -0.637745   \n",
       "\n",
       "Function                                                                     \n",
       "Band     EEG Fpz-Cz Theta EEG Fpz-Cz Alpha EEG Fpz-Cz Sigma EEG Fpz-Cz Beta  \n",
       "epoch                                                                        \n",
       "2748            -0.640106         0.142353        -0.053801       -0.063631  \n",
       "2749            -0.772634         0.051013        -0.082941       -0.698228  \n",
       "2750            -0.738703        -0.108487        -0.081871       -0.722311  \n",
       "2751            -0.761361        -0.089840        -0.148386       -0.729589  \n",
       "2752            -0.748931        -0.118923        -0.052184       -0.708171  \n",
       "\n",
       "[5 rows x 426 columns]"
      ]
     },
     "execution_count": 4,
     "metadata": {},
     "output_type": "execute_result"
    }
   ],
   "source": [
    "train_X = train_X.astype(np.float32)\n",
    "train_X.head()"
   ]
  },
  {
   "cell_type": "code",
   "execution_count": 5,
   "metadata": {},
   "outputs": [
    {
     "data": {
      "text/html": [
       "<div>\n",
       "<style scoped>\n",
       "    .dataframe tbody tr th:only-of-type {\n",
       "        vertical-align: middle;\n",
       "    }\n",
       "\n",
       "    .dataframe tbody tr th {\n",
       "        vertical-align: top;\n",
       "    }\n",
       "\n",
       "    .dataframe thead tr th {\n",
       "        text-align: left;\n",
       "    }\n",
       "</style>\n",
       "<table border=\"1\" class=\"dataframe\">\n",
       "  <thead>\n",
       "    <tr>\n",
       "      <th>Function</th>\n",
       "      <th colspan=\"10\" halign=\"left\">STD</th>\n",
       "      <th>...</th>\n",
       "      <th colspan=\"4\" halign=\"left\">AR_Coe_7</th>\n",
       "      <th colspan=\"6\" halign=\"left\">AR_Coe_8</th>\n",
       "    </tr>\n",
       "    <tr>\n",
       "      <th>Band</th>\n",
       "      <th>EEG Fpz-Cz</th>\n",
       "      <th>EEG Fpz-Cz Delta</th>\n",
       "      <th>EEG Fpz-Cz Theta</th>\n",
       "      <th>EEG Fpz-Cz Alpha</th>\n",
       "      <th>EEG Fpz-Cz Sigma</th>\n",
       "      <th>EEG Fpz-Cz Beta</th>\n",
       "      <th>EEG Fpz-Cz DOR</th>\n",
       "      <th>EEG Fpz-Cz TOR</th>\n",
       "      <th>EEG Fpz-Cz AOR</th>\n",
       "      <th>EEG Fpz-Cz SOR</th>\n",
       "      <th>...</th>\n",
       "      <th>EEG Fpz-Cz Theta</th>\n",
       "      <th>EEG Fpz-Cz Alpha</th>\n",
       "      <th>EEG Fpz-Cz Sigma</th>\n",
       "      <th>EEG Fpz-Cz Beta</th>\n",
       "      <th>EEG Fpz-Cz</th>\n",
       "      <th>EEG Fpz-Cz Delta</th>\n",
       "      <th>EEG Fpz-Cz Theta</th>\n",
       "      <th>EEG Fpz-Cz Alpha</th>\n",
       "      <th>EEG Fpz-Cz Sigma</th>\n",
       "      <th>EEG Fpz-Cz Beta</th>\n",
       "    </tr>\n",
       "  </thead>\n",
       "  <tbody>\n",
       "    <tr>\n",
       "      <td>count</td>\n",
       "      <td>89847.000000</td>\n",
       "      <td>89847.000000</td>\n",
       "      <td>89847.000000</td>\n",
       "      <td>89847.000000</td>\n",
       "      <td>89847.000000</td>\n",
       "      <td>89847.000000</td>\n",
       "      <td>89847.000000</td>\n",
       "      <td>89847.000000</td>\n",
       "      <td>89847.000000</td>\n",
       "      <td>89847.000000</td>\n",
       "      <td>...</td>\n",
       "      <td>89847.000000</td>\n",
       "      <td>89847.000000</td>\n",
       "      <td>89847.000000</td>\n",
       "      <td>89847.000000</td>\n",
       "      <td>89847.000000</td>\n",
       "      <td>89847.000000</td>\n",
       "      <td>89847.000000</td>\n",
       "      <td>89847.000000</td>\n",
       "      <td>89847.000000</td>\n",
       "      <td>89847.000000</td>\n",
       "    </tr>\n",
       "    <tr>\n",
       "      <td>mean</td>\n",
       "      <td>18.583536</td>\n",
       "      <td>16.029860</td>\n",
       "      <td>5.376452</td>\n",
       "      <td>3.354793</td>\n",
       "      <td>2.909930</td>\n",
       "      <td>3.144706</td>\n",
       "      <td>0.842807</td>\n",
       "      <td>0.328067</td>\n",
       "      <td>0.214062</td>\n",
       "      <td>0.182627</td>\n",
       "      <td>...</td>\n",
       "      <td>0.615539</td>\n",
       "      <td>0.812375</td>\n",
       "      <td>1.369646</td>\n",
       "      <td>1.814195</td>\n",
       "      <td>-0.145442</td>\n",
       "      <td>-0.340397</td>\n",
       "      <td>-0.767189</td>\n",
       "      <td>-0.087304</td>\n",
       "      <td>-0.280963</td>\n",
       "      <td>-0.487214</td>\n",
       "    </tr>\n",
       "    <tr>\n",
       "      <td>std</td>\n",
       "      <td>9.860544</td>\n",
       "      <td>9.614739</td>\n",
       "      <td>2.087426</td>\n",
       "      <td>1.522613</td>\n",
       "      <td>1.522335</td>\n",
       "      <td>2.600281</td>\n",
       "      <td>0.135883</td>\n",
       "      <td>0.117471</td>\n",
       "      <td>0.111118</td>\n",
       "      <td>0.092965</td>\n",
       "      <td>...</td>\n",
       "      <td>0.159629</td>\n",
       "      <td>0.907450</td>\n",
       "      <td>1.038689</td>\n",
       "      <td>0.740852</td>\n",
       "      <td>0.078115</td>\n",
       "      <td>0.226184</td>\n",
       "      <td>0.016745</td>\n",
       "      <td>0.229715</td>\n",
       "      <td>0.183226</td>\n",
       "      <td>0.170230</td>\n",
       "    </tr>\n",
       "    <tr>\n",
       "      <td>min</td>\n",
       "      <td>2.295897</td>\n",
       "      <td>1.964965</td>\n",
       "      <td>0.774077</td>\n",
       "      <td>0.428669</td>\n",
       "      <td>0.397527</td>\n",
       "      <td>0.476103</td>\n",
       "      <td>0.070574</td>\n",
       "      <td>0.031074</td>\n",
       "      <td>0.024253</td>\n",
       "      <td>0.014994</td>\n",
       "      <td>...</td>\n",
       "      <td>0.061071</td>\n",
       "      <td>-1.634852</td>\n",
       "      <td>-1.782399</td>\n",
       "      <td>-1.399675</td>\n",
       "      <td>-0.462717</td>\n",
       "      <td>-0.890292</td>\n",
       "      <td>-1.021990</td>\n",
       "      <td>-0.683294</td>\n",
       "      <td>-0.862812</td>\n",
       "      <td>-0.904970</td>\n",
       "    </tr>\n",
       "    <tr>\n",
       "      <td>25%</td>\n",
       "      <td>11.132796</td>\n",
       "      <td>8.694450</td>\n",
       "      <td>3.946190</td>\n",
       "      <td>2.322744</td>\n",
       "      <td>1.914096</td>\n",
       "      <td>1.704947</td>\n",
       "      <td>0.793875</td>\n",
       "      <td>0.240753</td>\n",
       "      <td>0.131709</td>\n",
       "      <td>0.111047</td>\n",
       "      <td>...</td>\n",
       "      <td>0.495722</td>\n",
       "      <td>0.032944</td>\n",
       "      <td>0.440536</td>\n",
       "      <td>1.393763</td>\n",
       "      <td>-0.190805</td>\n",
       "      <td>-0.543452</td>\n",
       "      <td>-0.777979</td>\n",
       "      <td>-0.276052</td>\n",
       "      <td>-0.416488</td>\n",
       "      <td>-0.620609</td>\n",
       "    </tr>\n",
       "    <tr>\n",
       "      <td>50%</td>\n",
       "      <td>16.613373</td>\n",
       "      <td>13.930181</td>\n",
       "      <td>4.998319</td>\n",
       "      <td>3.056740</td>\n",
       "      <td>2.582422</td>\n",
       "      <td>2.428247</td>\n",
       "      <td>0.888887</td>\n",
       "      <td>0.314836</td>\n",
       "      <td>0.192049</td>\n",
       "      <td>0.166274</td>\n",
       "      <td>...</td>\n",
       "      <td>0.617753</td>\n",
       "      <td>0.714062</td>\n",
       "      <td>1.208468</td>\n",
       "      <td>1.990518</td>\n",
       "      <td>-0.146725</td>\n",
       "      <td>-0.358008</td>\n",
       "      <td>-0.767305</td>\n",
       "      <td>-0.055196</td>\n",
       "      <td>-0.240058</td>\n",
       "      <td>-0.524515</td>\n",
       "    </tr>\n",
       "    <tr>\n",
       "      <td>75%</td>\n",
       "      <td>23.749266</td>\n",
       "      <td>21.208904</td>\n",
       "      <td>6.379545</td>\n",
       "      <td>4.003140</td>\n",
       "      <td>3.522642</td>\n",
       "      <td>3.584074</td>\n",
       "      <td>0.938646</td>\n",
       "      <td>0.400228</td>\n",
       "      <td>0.268847</td>\n",
       "      <td>0.237107</td>\n",
       "      <td>...</td>\n",
       "      <td>0.735885</td>\n",
       "      <td>1.558583</td>\n",
       "      <td>2.187380</td>\n",
       "      <td>2.387646</td>\n",
       "      <td>-0.104343</td>\n",
       "      <td>-0.146133</td>\n",
       "      <td>-0.756419</td>\n",
       "      <td>0.106142</td>\n",
       "      <td>-0.133794</td>\n",
       "      <td>-0.386436</td>\n",
       "    </tr>\n",
       "    <tr>\n",
       "      <td>max</td>\n",
       "      <td>95.389458</td>\n",
       "      <td>92.882454</td>\n",
       "      <td>23.242401</td>\n",
       "      <td>22.907801</td>\n",
       "      <td>26.764620</td>\n",
       "      <td>50.224781</td>\n",
       "      <td>1.003312</td>\n",
       "      <td>0.867037</td>\n",
       "      <td>0.846497</td>\n",
       "      <td>0.692532</td>\n",
       "      <td>...</td>\n",
       "      <td>1.156001</td>\n",
       "      <td>3.168323</td>\n",
       "      <td>4.417508</td>\n",
       "      <td>3.509475</td>\n",
       "      <td>0.243660</td>\n",
       "      <td>0.370480</td>\n",
       "      <td>-0.590415</td>\n",
       "      <td>0.540827</td>\n",
       "      <td>0.378089</td>\n",
       "      <td>0.252907</td>\n",
       "    </tr>\n",
       "  </tbody>\n",
       "</table>\n",
       "<p>8 rows × 426 columns</p>\n",
       "</div>"
      ],
      "text/plain": [
       "Function           STD                                                     \\\n",
       "Band        EEG Fpz-Cz EEG Fpz-Cz Delta EEG Fpz-Cz Theta EEG Fpz-Cz Alpha   \n",
       "count     89847.000000     89847.000000     89847.000000     89847.000000   \n",
       "mean         18.583536        16.029860         5.376452         3.354793   \n",
       "std           9.860544         9.614739         2.087426         1.522613   \n",
       "min           2.295897         1.964965         0.774077         0.428669   \n",
       "25%          11.132796         8.694450         3.946190         2.322744   \n",
       "50%          16.613373        13.930181         4.998319         3.056740   \n",
       "75%          23.749266        21.208904         6.379545         4.003140   \n",
       "max          95.389458        92.882454        23.242401        22.907801   \n",
       "\n",
       "Function                                                                 \\\n",
       "Band     EEG Fpz-Cz Sigma EEG Fpz-Cz Beta EEG Fpz-Cz DOR EEG Fpz-Cz TOR   \n",
       "count        89847.000000    89847.000000   89847.000000   89847.000000   \n",
       "mean             2.909930        3.144706       0.842807       0.328067   \n",
       "std              1.522335        2.600281       0.135883       0.117471   \n",
       "min              0.397527        0.476103       0.070574       0.031074   \n",
       "25%              1.914096        1.704947       0.793875       0.240753   \n",
       "50%              2.582422        2.428247       0.888887       0.314836   \n",
       "75%              3.522642        3.584074       0.938646       0.400228   \n",
       "max             26.764620       50.224781       1.003312       0.867037   \n",
       "\n",
       "Function                                ...         AR_Coe_7                   \\\n",
       "Band     EEG Fpz-Cz AOR EEG Fpz-Cz SOR  ... EEG Fpz-Cz Theta EEG Fpz-Cz Alpha   \n",
       "count      89847.000000   89847.000000  ...     89847.000000     89847.000000   \n",
       "mean           0.214062       0.182627  ...         0.615539         0.812375   \n",
       "std            0.111118       0.092965  ...         0.159629         0.907450   \n",
       "min            0.024253       0.014994  ...         0.061071        -1.634852   \n",
       "25%            0.131709       0.111047  ...         0.495722         0.032944   \n",
       "50%            0.192049       0.166274  ...         0.617753         0.714062   \n",
       "75%            0.268847       0.237107  ...         0.735885         1.558583   \n",
       "max            0.846497       0.692532  ...         1.156001         3.168323   \n",
       "\n",
       "Function                                       AR_Coe_8                   \\\n",
       "Band     EEG Fpz-Cz Sigma EEG Fpz-Cz Beta    EEG Fpz-Cz EEG Fpz-Cz Delta   \n",
       "count        89847.000000    89847.000000  89847.000000     89847.000000   \n",
       "mean             1.369646        1.814195     -0.145442        -0.340397   \n",
       "std              1.038689        0.740852      0.078115         0.226184   \n",
       "min             -1.782399       -1.399675     -0.462717        -0.890292   \n",
       "25%              0.440536        1.393763     -0.190805        -0.543452   \n",
       "50%              1.208468        1.990518     -0.146725        -0.358008   \n",
       "75%              2.187380        2.387646     -0.104343        -0.146133   \n",
       "max              4.417508        3.509475      0.243660         0.370480   \n",
       "\n",
       "Function                                                                     \n",
       "Band     EEG Fpz-Cz Theta EEG Fpz-Cz Alpha EEG Fpz-Cz Sigma EEG Fpz-Cz Beta  \n",
       "count        89847.000000     89847.000000     89847.000000    89847.000000  \n",
       "mean            -0.767189        -0.087304        -0.280963       -0.487214  \n",
       "std              0.016745         0.229715         0.183226        0.170230  \n",
       "min             -1.021990        -0.683294        -0.862812       -0.904970  \n",
       "25%             -0.777979        -0.276052        -0.416488       -0.620609  \n",
       "50%             -0.767305        -0.055196        -0.240058       -0.524515  \n",
       "75%             -0.756419         0.106142        -0.133794       -0.386436  \n",
       "max             -0.590415         0.540827         0.378089        0.252907  \n",
       "\n",
       "[8 rows x 426 columns]"
      ]
     },
     "execution_count": 5,
     "metadata": {},
     "output_type": "execute_result"
    }
   ],
   "source": [
    "train_X.describe()"
   ]
  },
  {
   "cell_type": "markdown",
   "metadata": {},
   "source": [
    "# Deskewness"
   ]
  },
  {
   "cell_type": "markdown",
   "metadata": {},
   "source": [
    "# Feature Selection & Model Fitting"
   ]
  },
  {
   "cell_type": "markdown",
   "metadata": {},
   "source": [
    "### Encoding And Model generating"
   ]
  },
  {
   "cell_type": "code",
   "execution_count": 32,
   "metadata": {},
   "outputs": [],
   "source": [
    "# Label encoding for toget\n",
    "trY = preprocessing.LabelEncoder().fit_transform(train_Y)\n",
    "# Encoding\n",
    "trX = StandardScaler().fit_transform(train_X)\n",
    "estimator = LinearDiscriminantAnalysis()"
   ]
  },
  {
   "cell_type": "code",
   "execution_count": 7,
   "metadata": {},
   "outputs": [
    {
     "data": {
      "text/plain": [
       "<bound method BaseEstimator.get_params of LinearDiscriminantAnalysis(n_components=None, priors=None, shrinkage=None,\n",
       "                           solver='svd', store_covariance=False, tol=0.0001)>"
      ]
     },
     "execution_count": 7,
     "metadata": {},
     "output_type": "execute_result"
    }
   ],
   "source": [
    "estimator.get_params"
   ]
  },
  {
   "cell_type": "code",
   "execution_count": 8,
   "metadata": {},
   "outputs": [
    {
     "data": {
      "text/plain": [
       "(89847, 426)"
      ]
     },
     "execution_count": 8,
     "metadata": {},
     "output_type": "execute_result"
    }
   ],
   "source": [
    "trX.shape"
   ]
  },
  {
   "cell_type": "markdown",
   "metadata": {},
   "source": [
    "df = pd.DataFrame(trX)\n",
    "df.columns = train_X.columns\n",
    "df.to_csv('trainingX.csv')"
   ]
  },
  {
   "cell_type": "markdown",
   "metadata": {},
   "source": [
    "### Filter Methods selection"
   ]
  },
  {
   "cell_type": "code",
   "execution_count": 33,
   "metadata": {},
   "outputs": [
    {
     "name": "stdout",
     "output_type": "stream",
     "text": [
      "200\n"
     ]
    }
   ],
   "source": [
    "# ANOVA - F\n",
    "selector_1 = feature_selection.SelectKBest(feature_selection.f_classif,k=200)\n",
    "selector_1.fit(trX,trY)\n",
    "idx1 = list(selector_1.get_support(indices=True))\n",
    "\n",
    "print(len(idx1))"
   ]
  },
  {
   "cell_type": "code",
   "execution_count": 36,
   "metadata": {},
   "outputs": [],
   "source": [
    "# tree\n",
    "Dtree = tree.DecisionTreeClassifier()\n",
    "para_tree = {'criterion':['gini','entropy'],'max_depth':np.arange(3:10),}\n",
    "# SVC\n",
    "lsvc = LinearSVC()"
   ]
  },
  {
   "cell_type": "code",
   "execution_count": 426,
   "metadata": {},
   "outputs": [
    {
     "name": "stdout",
     "output_type": "stream",
     "text": [
      "174\n"
     ]
    }
   ],
   "source": [
    "lsvc = LinearSVC(C=0.001, penalty=\"l1\", dual=False).fit(trX, trY)\n",
    "selector_2 = SelectFromModel(lsvc, prefit=True)\n",
    "idx2 = list(selector_2.get_support(indices=True))\n",
    "\n",
    "print(len(idx2))"
   ]
  },
  {
   "cell_type": "code",
   "execution_count": 22,
   "metadata": {},
   "outputs": [
    {
     "data": {
      "text/plain": [
       "(89847, 53)"
      ]
     },
     "execution_count": 22,
     "metadata": {},
     "output_type": "execute_result"
    }
   ],
   "source": [
    "idx = list(set(idx1) & set(idx2))\n",
    "trX = trX[:,idx]\n",
    "trX.shape"
   ]
  },
  {
   "cell_type": "markdown",
   "metadata": {},
   "source": [
    "idx = [i for i in idx1 if i in idx2]\n",
    "trX = trX[:,idx]\n",
    "trX.shape"
   ]
  },
  {
   "cell_type": "markdown",
   "metadata": {},
   "source": [
    "df = pd.DataFrame(trX)\n",
    "df.to_csv('Selected_tr.csv')"
   ]
  },
  {
   "cell_type": "markdown",
   "metadata": {},
   "source": [
    "# Model fitting"
   ]
  },
  {
   "cell_type": "markdown",
   "metadata": {},
   "source": [
    "### Additional Feature"
   ]
  },
  {
   "cell_type": "markdown",
   "metadata": {},
   "source": [
    "### Fitting"
   ]
  },
  {
   "cell_type": "code",
   "execution_count": null,
   "metadata": {},
   "outputs": [],
   "source": [
    "# GridSearchCV\n",
    "clf = GridSearchCV(Dtree,)"
   ]
  },
  {
   "cell_type": "code",
   "execution_count": 23,
   "metadata": {
    "scrolled": true
   },
   "outputs": [
    {
     "name": "stderr",
     "output_type": "stream",
     "text": [
      "C:\\Users\\vita7\\Anaconda3\\lib\\site-packages\\sklearn\\discriminant_analysis.py:388: UserWarning: Variables are collinear.\n",
      "  warnings.warn(\"Variables are collinear.\")\n"
     ]
    },
    {
     "name": "stdout",
     "output_type": "stream",
     "text": [
      "              precision    recall  f1-score   support\n",
      "\n",
      "           0       0.33      0.14      0.20       277\n",
      "           1       0.70      0.81      0.75       794\n",
      "           2       0.87      0.74      0.80       530\n",
      "           3       0.56      0.70      0.63       471\n",
      "           4       0.84      0.84      0.84       923\n",
      "\n",
      "    accuracy                           0.73      2995\n",
      "   macro avg       0.66      0.65      0.64      2995\n",
      "weighted avg       0.72      0.73      0.71      2995\n",
      "\n",
      "0.6407673560312609\n"
     ]
    },
    {
     "name": "stderr",
     "output_type": "stream",
     "text": [
      "C:\\Users\\vita7\\Anaconda3\\lib\\site-packages\\sklearn\\discriminant_analysis.py:388: UserWarning: Variables are collinear.\n",
      "  warnings.warn(\"Variables are collinear.\")\n"
     ]
    },
    {
     "name": "stdout",
     "output_type": "stream",
     "text": [
      "              precision    recall  f1-score   support\n",
      "\n",
      "           0       0.38      0.15      0.22       285\n",
      "           1       0.71      0.78      0.75       854\n",
      "           2       0.83      0.75      0.79       503\n",
      "           3       0.58      0.73      0.65       454\n",
      "           4       0.83      0.85      0.84       899\n",
      "\n",
      "    accuracy                           0.73      2995\n",
      "   macro avg       0.67      0.65      0.65      2995\n",
      "weighted avg       0.72      0.73      0.72      2995\n",
      "\n",
      "0.6457304551630734\n"
     ]
    },
    {
     "name": "stderr",
     "output_type": "stream",
     "text": [
      "C:\\Users\\vita7\\Anaconda3\\lib\\site-packages\\sklearn\\discriminant_analysis.py:388: UserWarning: Variables are collinear.\n",
      "  warnings.warn(\"Variables are collinear.\")\n"
     ]
    },
    {
     "name": "stdout",
     "output_type": "stream",
     "text": [
      "              precision    recall  f1-score   support\n",
      "\n",
      "           0       0.37      0.15      0.22       261\n",
      "           1       0.73      0.79      0.76       892\n",
      "           2       0.81      0.73      0.77       483\n",
      "           3       0.59      0.68      0.63       516\n",
      "           4       0.81      0.87      0.84       843\n",
      "\n",
      "    accuracy                           0.73      2995\n",
      "   macro avg       0.66      0.64      0.64      2995\n",
      "weighted avg       0.71      0.73      0.71      2995\n",
      "\n",
      "0.6398319052572923\n"
     ]
    },
    {
     "name": "stderr",
     "output_type": "stream",
     "text": [
      "C:\\Users\\vita7\\Anaconda3\\lib\\site-packages\\sklearn\\discriminant_analysis.py:388: UserWarning: Variables are collinear.\n",
      "  warnings.warn(\"Variables are collinear.\")\n"
     ]
    },
    {
     "name": "stdout",
     "output_type": "stream",
     "text": [
      "              precision    recall  f1-score   support\n",
      "\n",
      "           0       0.30      0.11      0.16       294\n",
      "           1       0.71      0.84      0.77       832\n",
      "           2       0.85      0.72      0.78       472\n",
      "           3       0.58      0.74      0.65       463\n",
      "           4       0.84      0.83      0.83       934\n",
      "\n",
      "    accuracy                           0.73      2995\n",
      "   macro avg       0.66      0.65      0.64      2995\n",
      "weighted avg       0.71      0.73      0.71      2995\n",
      "\n",
      "0.6438382804669083\n"
     ]
    },
    {
     "name": "stderr",
     "output_type": "stream",
     "text": [
      "C:\\Users\\vita7\\Anaconda3\\lib\\site-packages\\sklearn\\discriminant_analysis.py:388: UserWarning: Variables are collinear.\n",
      "  warnings.warn(\"Variables are collinear.\")\n"
     ]
    },
    {
     "name": "stdout",
     "output_type": "stream",
     "text": [
      "              precision    recall  f1-score   support\n",
      "\n",
      "           0       0.42      0.15      0.22       284\n",
      "           1       0.70      0.79      0.74       837\n",
      "           2       0.83      0.75      0.79       524\n",
      "           3       0.56      0.72      0.63       446\n",
      "           4       0.85      0.86      0.86       904\n",
      "\n",
      "    accuracy                           0.73      2995\n",
      "   macro avg       0.67      0.65      0.65      2995\n",
      "weighted avg       0.72      0.73      0.72      2995\n",
      "\n",
      "0.6491201350565303\n"
     ]
    },
    {
     "name": "stderr",
     "output_type": "stream",
     "text": [
      "C:\\Users\\vita7\\Anaconda3\\lib\\site-packages\\sklearn\\discriminant_analysis.py:388: UserWarning: Variables are collinear.\n",
      "  warnings.warn(\"Variables are collinear.\")\n"
     ]
    },
    {
     "name": "stdout",
     "output_type": "stream",
     "text": [
      "              precision    recall  f1-score   support\n",
      "\n",
      "           0       0.31      0.11      0.16       257\n",
      "           1       0.72      0.81      0.76       864\n",
      "           2       0.85      0.73      0.79       491\n",
      "           3       0.60      0.72      0.65       483\n",
      "           4       0.84      0.86      0.85       900\n",
      "\n",
      "    accuracy                           0.74      2995\n",
      "   macro avg       0.66      0.65      0.64      2995\n",
      "weighted avg       0.72      0.74      0.72      2995\n",
      "\n",
      "0.6521864463156797\n"
     ]
    },
    {
     "name": "stderr",
     "output_type": "stream",
     "text": [
      "C:\\Users\\vita7\\Anaconda3\\lib\\site-packages\\sklearn\\discriminant_analysis.py:388: UserWarning: Variables are collinear.\n",
      "  warnings.warn(\"Variables are collinear.\")\n"
     ]
    },
    {
     "name": "stdout",
     "output_type": "stream",
     "text": [
      "              precision    recall  f1-score   support\n",
      "\n",
      "           0       0.29      0.09      0.14       279\n",
      "           1       0.70      0.81      0.75       814\n",
      "           2       0.88      0.73      0.80       547\n",
      "           3       0.56      0.72      0.63       469\n",
      "           4       0.82      0.85      0.84       886\n",
      "\n",
      "    accuracy                           0.72      2995\n",
      "   macro avg       0.65      0.64      0.63      2995\n",
      "weighted avg       0.71      0.72      0.71      2995\n",
      "\n",
      "0.6392585847987461\n"
     ]
    },
    {
     "name": "stderr",
     "output_type": "stream",
     "text": [
      "C:\\Users\\vita7\\Anaconda3\\lib\\site-packages\\sklearn\\discriminant_analysis.py:388: UserWarning: Variables are collinear.\n",
      "  warnings.warn(\"Variables are collinear.\")\n"
     ]
    },
    {
     "name": "stdout",
     "output_type": "stream",
     "text": [
      "              precision    recall  f1-score   support\n",
      "\n",
      "           0       0.33      0.16      0.21       245\n",
      "           1       0.71      0.78      0.75       851\n",
      "           2       0.84      0.75      0.79       502\n",
      "           3       0.58      0.67      0.62       486\n",
      "           4       0.82      0.85      0.83       911\n",
      "\n",
      "    accuracy                           0.73      2995\n",
      "   macro avg       0.66      0.64      0.64      2995\n",
      "weighted avg       0.72      0.73      0.72      2995\n",
      "\n",
      "0.6394259391202053\n"
     ]
    },
    {
     "name": "stderr",
     "output_type": "stream",
     "text": [
      "C:\\Users\\vita7\\Anaconda3\\lib\\site-packages\\sklearn\\discriminant_analysis.py:388: UserWarning: Variables are collinear.\n",
      "  warnings.warn(\"Variables are collinear.\")\n"
     ]
    },
    {
     "name": "stdout",
     "output_type": "stream",
     "text": [
      "              precision    recall  f1-score   support\n",
      "\n",
      "           0       0.34      0.11      0.17       290\n",
      "           1       0.72      0.81      0.77       812\n",
      "           2       0.84      0.77      0.80       475\n",
      "           3       0.62      0.73      0.67       504\n",
      "           4       0.83      0.86      0.84       914\n",
      "\n",
      "    accuracy                           0.74      2995\n",
      "   macro avg       0.67      0.66      0.65      2995\n",
      "weighted avg       0.72      0.74      0.72      2995\n",
      "\n",
      "0.6569691174756065\n"
     ]
    },
    {
     "name": "stderr",
     "output_type": "stream",
     "text": [
      "C:\\Users\\vita7\\Anaconda3\\lib\\site-packages\\sklearn\\discriminant_analysis.py:388: UserWarning: Variables are collinear.\n",
      "  warnings.warn(\"Variables are collinear.\")\n"
     ]
    },
    {
     "name": "stdout",
     "output_type": "stream",
     "text": [
      "              precision    recall  f1-score   support\n",
      "\n",
      "           0       0.44      0.12      0.19       311\n",
      "           1       0.72      0.81      0.76       867\n",
      "           2       0.83      0.76      0.79       479\n",
      "           3       0.58      0.74      0.65       473\n",
      "           4       0.84      0.86      0.85       864\n",
      "\n",
      "    accuracy                           0.74      2994\n",
      "   macro avg       0.68      0.66      0.65      2994\n",
      "weighted avg       0.72      0.74      0.72      2994\n",
      "\n",
      "0.652588370824519\n"
     ]
    }
   ],
   "source": [
    "REPORT(estimator=estimator,X=trX,Y=trY,kf=10)"
   ]
  },
  {
   "cell_type": "code",
   "execution_count": 444,
   "metadata": {},
   "outputs": [
    {
     "name": "stderr",
     "output_type": "stream",
     "text": [
      "C:\\Users\\vita7\\Anaconda3\\lib\\site-packages\\sklearn\\linear_model\\coordinate_descent.py:475: ConvergenceWarning: Objective did not converge. You might want to increase the number of iterations. Duality gap: 4.859081331326706, tolerance: 1.165446611427158\n",
      "  positive)\n",
      "C:\\Users\\vita7\\Anaconda3\\lib\\site-packages\\sklearn\\linear_model\\coordinate_descent.py:475: ConvergenceWarning: Objective did not converge. You might want to increase the number of iterations. Duality gap: 4.071841307615614, tolerance: 2.6551273311897097\n",
      "  positive)\n",
      "C:\\Users\\vita7\\Anaconda3\\lib\\site-packages\\sklearn\\linear_model\\coordinate_descent.py:475: ConvergenceWarning: Objective did not converge. You might want to increase the number of iterations. Duality gap: 7.343240605772735, tolerance: 5.941340956591639\n",
      "  positive)\n",
      "C:\\Users\\vita7\\Anaconda3\\lib\\site-packages\\sklearn\\linear_model\\coordinate_descent.py:475: ConvergenceWarning: Objective did not converge. You might want to increase the number of iterations. Duality gap: 4.648846440864872, tolerance: 1.5866760326490228\n",
      "  positive)\n",
      "C:\\Users\\vita7\\Anaconda3\\lib\\site-packages\\sklearn\\linear_model\\coordinate_descent.py:475: ConvergenceWarning: Objective did not converge. You might want to increase the number of iterations. Duality gap: 4.648846440864872, tolerance: 1.5866760326490228\n",
      "  positive)\n",
      "C:\\Users\\vita7\\Anaconda3\\lib\\site-packages\\sklearn\\linear_model\\coordinate_descent.py:475: ConvergenceWarning: Objective did not converge. You might want to increase the number of iterations. Duality gap: 5.258055139305725, tolerance: 2.7132793222854317\n",
      "  positive)\n",
      "C:\\Users\\vita7\\Anaconda3\\lib\\site-packages\\sklearn\\linear_model\\coordinate_descent.py:475: ConvergenceWarning: Objective did not converge. You might want to increase the number of iterations. Duality gap: 4.648846440864872, tolerance: 1.5866760326490228\n",
      "  positive)\n",
      "C:\\Users\\vita7\\Anaconda3\\lib\\site-packages\\sklearn\\linear_model\\coordinate_descent.py:475: ConvergenceWarning: Objective did not converge. You might want to increase the number of iterations. Duality gap: 5.258055139305725, tolerance: 2.7132793222854317\n",
      "  positive)\n",
      "C:\\Users\\vita7\\Anaconda3\\lib\\site-packages\\sklearn\\linear_model\\coordinate_descent.py:475: ConvergenceWarning: Objective did not converge. You might want to increase the number of iterations. Duality gap: 22.22137640040819, tolerance: 5.848434970937426\n",
      "  positive)\n",
      "C:\\Users\\vita7\\Anaconda3\\lib\\site-packages\\sklearn\\linear_model\\coordinate_descent.py:475: ConvergenceWarning: Objective did not converge. You might want to increase the number of iterations. Duality gap: 4.648846440864872, tolerance: 1.5866760326490228\n",
      "  positive)\n",
      "C:\\Users\\vita7\\Anaconda3\\lib\\site-packages\\sklearn\\linear_model\\coordinate_descent.py:475: ConvergenceWarning: Objective did not converge. You might want to increase the number of iterations. Duality gap: 5.258055139305725, tolerance: 2.7132793222854317\n",
      "  positive)\n"
     ]
    },
    {
     "ename": "KeyboardInterrupt",
     "evalue": "",
     "output_type": "error",
     "traceback": [
      "\u001b[1;31m---------------------------------------------------------------------------\u001b[0m",
      "\u001b[1;31mKeyboardInterrupt\u001b[0m                         Traceback (most recent call last)",
      "\u001b[1;32m<ipython-input-444-9b9381847435>\u001b[0m in \u001b[0;36m<module>\u001b[1;34m\u001b[0m\n\u001b[0;32m      1\u001b[0m \u001b[0mtrain_sizes\u001b[0m \u001b[1;33m=\u001b[0m \u001b[1;33m[\u001b[0m\u001b[1;36m0.1\u001b[0m\u001b[1;33m,\u001b[0m \u001b[1;36m0.2\u001b[0m\u001b[1;33m,\u001b[0m \u001b[1;36m0.4\u001b[0m\u001b[1;33m,\u001b[0m \u001b[1;36m0.6\u001b[0m\u001b[1;33m,\u001b[0m \u001b[1;36m0.7\u001b[0m\u001b[1;33m,\u001b[0m \u001b[1;36m0.8\u001b[0m\u001b[1;33m,\u001b[0m\u001b[1;36m0.9\u001b[0m\u001b[1;33m]\u001b[0m\u001b[1;33m\u001b[0m\u001b[1;33m\u001b[0m\u001b[0m\n\u001b[1;32m----> 2\u001b[1;33m \u001b[0mtrain_size\u001b[0m\u001b[1;33m,\u001b[0m\u001b[0mtrain_scores\u001b[0m\u001b[1;33m,\u001b[0m\u001b[0mtest_scores\u001b[0m \u001b[1;33m=\u001b[0m \u001b[0mlearning_curve\u001b[0m\u001b[1;33m(\u001b[0m\u001b[0mL1_Reg\u001b[0m\u001b[1;33m,\u001b[0m\u001b[0mtrX\u001b[0m\u001b[1;33m,\u001b[0m\u001b[0mtrY\u001b[0m\u001b[1;33m,\u001b[0m\u001b[0mcv\u001b[0m\u001b[1;33m=\u001b[0m\u001b[1;36m10\u001b[0m\u001b[1;33m,\u001b[0m\u001b[0mtrain_sizes\u001b[0m\u001b[1;33m=\u001b[0m\u001b[1;33m[\u001b[0m\u001b[1;36m0.1\u001b[0m\u001b[1;33m,\u001b[0m\u001b[1;36m0.2\u001b[0m\u001b[1;33m,\u001b[0m\u001b[1;36m0.4\u001b[0m\u001b[1;33m,\u001b[0m\u001b[1;36m0.6\u001b[0m\u001b[1;33m,\u001b[0m\u001b[1;36m0.7\u001b[0m\u001b[1;33m,\u001b[0m\u001b[1;36m0.8\u001b[0m\u001b[1;33m]\u001b[0m\u001b[1;33m)\u001b[0m\u001b[1;33m\u001b[0m\u001b[1;33m\u001b[0m\u001b[0m\n\u001b[0m\u001b[0;32m      3\u001b[0m \u001b[0mnew_train_scores\u001b[0m\u001b[1;33m=\u001b[0m\u001b[0mtrain_scores\u001b[0m\u001b[1;33m.\u001b[0m\u001b[0mmean\u001b[0m\u001b[1;33m(\u001b[0m\u001b[1;36m1\u001b[0m\u001b[1;33m)\u001b[0m\u001b[1;33m\u001b[0m\u001b[1;33m\u001b[0m\u001b[0m\n\u001b[0;32m      4\u001b[0m \u001b[0mtrain_std\u001b[0m\u001b[1;33m=\u001b[0m\u001b[0mtrain_scores\u001b[0m\u001b[1;33m.\u001b[0m\u001b[0mstd\u001b[0m\u001b[1;33m(\u001b[0m\u001b[1;33m)\u001b[0m\u001b[1;33m\u001b[0m\u001b[1;33m\u001b[0m\u001b[0m\n\u001b[0;32m      5\u001b[0m \u001b[0mtest_std\u001b[0m\u001b[1;33m=\u001b[0m\u001b[0mtest_scores\u001b[0m\u001b[1;33m.\u001b[0m\u001b[0mstd\u001b[0m\u001b[1;33m(\u001b[0m\u001b[1;33m)\u001b[0m\u001b[1;33m\u001b[0m\u001b[1;33m\u001b[0m\u001b[0m\n",
      "\u001b[1;32m~\\Anaconda3\\lib\\site-packages\\sklearn\\model_selection\\_validation.py\u001b[0m in \u001b[0;36mlearning_curve\u001b[1;34m(estimator, X, y, groups, train_sizes, cv, scoring, exploit_incremental_learning, n_jobs, pre_dispatch, verbose, shuffle, random_state, error_score)\u001b[0m\n\u001b[0;32m   1294\u001b[0m             \u001b[0mparameters\u001b[0m\u001b[1;33m=\u001b[0m\u001b[1;32mNone\u001b[0m\u001b[1;33m,\u001b[0m \u001b[0mfit_params\u001b[0m\u001b[1;33m=\u001b[0m\u001b[1;32mNone\u001b[0m\u001b[1;33m,\u001b[0m \u001b[0mreturn_train_score\u001b[0m\u001b[1;33m=\u001b[0m\u001b[1;32mTrue\u001b[0m\u001b[1;33m,\u001b[0m\u001b[1;33m\u001b[0m\u001b[1;33m\u001b[0m\u001b[0m\n\u001b[0;32m   1295\u001b[0m             error_score=error_score)\n\u001b[1;32m-> 1296\u001b[1;33m             for train, test in train_test_proportions)\n\u001b[0m\u001b[0;32m   1297\u001b[0m         \u001b[0mout\u001b[0m \u001b[1;33m=\u001b[0m \u001b[0mnp\u001b[0m\u001b[1;33m.\u001b[0m\u001b[0marray\u001b[0m\u001b[1;33m(\u001b[0m\u001b[0mout\u001b[0m\u001b[1;33m)\u001b[0m\u001b[1;33m\u001b[0m\u001b[1;33m\u001b[0m\u001b[0m\n\u001b[0;32m   1298\u001b[0m         \u001b[0mn_cv_folds\u001b[0m \u001b[1;33m=\u001b[0m \u001b[0mout\u001b[0m\u001b[1;33m.\u001b[0m\u001b[0mshape\u001b[0m\u001b[1;33m[\u001b[0m\u001b[1;36m0\u001b[0m\u001b[1;33m]\u001b[0m \u001b[1;33m//\u001b[0m \u001b[0mn_unique_ticks\u001b[0m\u001b[1;33m\u001b[0m\u001b[1;33m\u001b[0m\u001b[0m\n",
      "\u001b[1;32m~\\Anaconda3\\lib\\site-packages\\joblib\\parallel.py\u001b[0m in \u001b[0;36m__call__\u001b[1;34m(self, iterable)\u001b[0m\n\u001b[0;32m    922\u001b[0m                 \u001b[0mself\u001b[0m\u001b[1;33m.\u001b[0m\u001b[0m_iterating\u001b[0m \u001b[1;33m=\u001b[0m \u001b[0mself\u001b[0m\u001b[1;33m.\u001b[0m\u001b[0m_original_iterator\u001b[0m \u001b[1;32mis\u001b[0m \u001b[1;32mnot\u001b[0m \u001b[1;32mNone\u001b[0m\u001b[1;33m\u001b[0m\u001b[1;33m\u001b[0m\u001b[0m\n\u001b[0;32m    923\u001b[0m \u001b[1;33m\u001b[0m\u001b[0m\n\u001b[1;32m--> 924\u001b[1;33m             \u001b[1;32mwhile\u001b[0m \u001b[0mself\u001b[0m\u001b[1;33m.\u001b[0m\u001b[0mdispatch_one_batch\u001b[0m\u001b[1;33m(\u001b[0m\u001b[0miterator\u001b[0m\u001b[1;33m)\u001b[0m\u001b[1;33m:\u001b[0m\u001b[1;33m\u001b[0m\u001b[1;33m\u001b[0m\u001b[0m\n\u001b[0m\u001b[0;32m    925\u001b[0m                 \u001b[1;32mpass\u001b[0m\u001b[1;33m\u001b[0m\u001b[1;33m\u001b[0m\u001b[0m\n\u001b[0;32m    926\u001b[0m \u001b[1;33m\u001b[0m\u001b[0m\n",
      "\u001b[1;32m~\\Anaconda3\\lib\\site-packages\\joblib\\parallel.py\u001b[0m in \u001b[0;36mdispatch_one_batch\u001b[1;34m(self, iterator)\u001b[0m\n\u001b[0;32m    757\u001b[0m                 \u001b[1;32mreturn\u001b[0m \u001b[1;32mFalse\u001b[0m\u001b[1;33m\u001b[0m\u001b[1;33m\u001b[0m\u001b[0m\n\u001b[0;32m    758\u001b[0m             \u001b[1;32melse\u001b[0m\u001b[1;33m:\u001b[0m\u001b[1;33m\u001b[0m\u001b[1;33m\u001b[0m\u001b[0m\n\u001b[1;32m--> 759\u001b[1;33m                 \u001b[0mself\u001b[0m\u001b[1;33m.\u001b[0m\u001b[0m_dispatch\u001b[0m\u001b[1;33m(\u001b[0m\u001b[0mtasks\u001b[0m\u001b[1;33m)\u001b[0m\u001b[1;33m\u001b[0m\u001b[1;33m\u001b[0m\u001b[0m\n\u001b[0m\u001b[0;32m    760\u001b[0m                 \u001b[1;32mreturn\u001b[0m \u001b[1;32mTrue\u001b[0m\u001b[1;33m\u001b[0m\u001b[1;33m\u001b[0m\u001b[0m\n\u001b[0;32m    761\u001b[0m \u001b[1;33m\u001b[0m\u001b[0m\n",
      "\u001b[1;32m~\\Anaconda3\\lib\\site-packages\\joblib\\parallel.py\u001b[0m in \u001b[0;36m_dispatch\u001b[1;34m(self, batch)\u001b[0m\n\u001b[0;32m    714\u001b[0m         \u001b[1;32mwith\u001b[0m \u001b[0mself\u001b[0m\u001b[1;33m.\u001b[0m\u001b[0m_lock\u001b[0m\u001b[1;33m:\u001b[0m\u001b[1;33m\u001b[0m\u001b[1;33m\u001b[0m\u001b[0m\n\u001b[0;32m    715\u001b[0m             \u001b[0mjob_idx\u001b[0m \u001b[1;33m=\u001b[0m \u001b[0mlen\u001b[0m\u001b[1;33m(\u001b[0m\u001b[0mself\u001b[0m\u001b[1;33m.\u001b[0m\u001b[0m_jobs\u001b[0m\u001b[1;33m)\u001b[0m\u001b[1;33m\u001b[0m\u001b[1;33m\u001b[0m\u001b[0m\n\u001b[1;32m--> 716\u001b[1;33m             \u001b[0mjob\u001b[0m \u001b[1;33m=\u001b[0m \u001b[0mself\u001b[0m\u001b[1;33m.\u001b[0m\u001b[0m_backend\u001b[0m\u001b[1;33m.\u001b[0m\u001b[0mapply_async\u001b[0m\u001b[1;33m(\u001b[0m\u001b[0mbatch\u001b[0m\u001b[1;33m,\u001b[0m \u001b[0mcallback\u001b[0m\u001b[1;33m=\u001b[0m\u001b[0mcb\u001b[0m\u001b[1;33m)\u001b[0m\u001b[1;33m\u001b[0m\u001b[1;33m\u001b[0m\u001b[0m\n\u001b[0m\u001b[0;32m    717\u001b[0m             \u001b[1;31m# A job can complete so quickly than its callback is\u001b[0m\u001b[1;33m\u001b[0m\u001b[1;33m\u001b[0m\u001b[1;33m\u001b[0m\u001b[0m\n\u001b[0;32m    718\u001b[0m             \u001b[1;31m# called before we get here, causing self._jobs to\u001b[0m\u001b[1;33m\u001b[0m\u001b[1;33m\u001b[0m\u001b[1;33m\u001b[0m\u001b[0m\n",
      "\u001b[1;32m~\\Anaconda3\\lib\\site-packages\\joblib\\_parallel_backends.py\u001b[0m in \u001b[0;36mapply_async\u001b[1;34m(self, func, callback)\u001b[0m\n\u001b[0;32m    180\u001b[0m     \u001b[1;32mdef\u001b[0m \u001b[0mapply_async\u001b[0m\u001b[1;33m(\u001b[0m\u001b[0mself\u001b[0m\u001b[1;33m,\u001b[0m \u001b[0mfunc\u001b[0m\u001b[1;33m,\u001b[0m \u001b[0mcallback\u001b[0m\u001b[1;33m=\u001b[0m\u001b[1;32mNone\u001b[0m\u001b[1;33m)\u001b[0m\u001b[1;33m:\u001b[0m\u001b[1;33m\u001b[0m\u001b[1;33m\u001b[0m\u001b[0m\n\u001b[0;32m    181\u001b[0m         \u001b[1;34m\"\"\"Schedule a func to be run\"\"\"\u001b[0m\u001b[1;33m\u001b[0m\u001b[1;33m\u001b[0m\u001b[0m\n\u001b[1;32m--> 182\u001b[1;33m         \u001b[0mresult\u001b[0m \u001b[1;33m=\u001b[0m \u001b[0mImmediateResult\u001b[0m\u001b[1;33m(\u001b[0m\u001b[0mfunc\u001b[0m\u001b[1;33m)\u001b[0m\u001b[1;33m\u001b[0m\u001b[1;33m\u001b[0m\u001b[0m\n\u001b[0m\u001b[0;32m    183\u001b[0m         \u001b[1;32mif\u001b[0m \u001b[0mcallback\u001b[0m\u001b[1;33m:\u001b[0m\u001b[1;33m\u001b[0m\u001b[1;33m\u001b[0m\u001b[0m\n\u001b[0;32m    184\u001b[0m             \u001b[0mcallback\u001b[0m\u001b[1;33m(\u001b[0m\u001b[0mresult\u001b[0m\u001b[1;33m)\u001b[0m\u001b[1;33m\u001b[0m\u001b[1;33m\u001b[0m\u001b[0m\n",
      "\u001b[1;32m~\\Anaconda3\\lib\\site-packages\\joblib\\_parallel_backends.py\u001b[0m in \u001b[0;36m__init__\u001b[1;34m(self, batch)\u001b[0m\n\u001b[0;32m    547\u001b[0m         \u001b[1;31m# Don't delay the application, to avoid keeping the input\u001b[0m\u001b[1;33m\u001b[0m\u001b[1;33m\u001b[0m\u001b[1;33m\u001b[0m\u001b[0m\n\u001b[0;32m    548\u001b[0m         \u001b[1;31m# arguments in memory\u001b[0m\u001b[1;33m\u001b[0m\u001b[1;33m\u001b[0m\u001b[1;33m\u001b[0m\u001b[0m\n\u001b[1;32m--> 549\u001b[1;33m         \u001b[0mself\u001b[0m\u001b[1;33m.\u001b[0m\u001b[0mresults\u001b[0m \u001b[1;33m=\u001b[0m \u001b[0mbatch\u001b[0m\u001b[1;33m(\u001b[0m\u001b[1;33m)\u001b[0m\u001b[1;33m\u001b[0m\u001b[1;33m\u001b[0m\u001b[0m\n\u001b[0m\u001b[0;32m    550\u001b[0m \u001b[1;33m\u001b[0m\u001b[0m\n\u001b[0;32m    551\u001b[0m     \u001b[1;32mdef\u001b[0m \u001b[0mget\u001b[0m\u001b[1;33m(\u001b[0m\u001b[0mself\u001b[0m\u001b[1;33m)\u001b[0m\u001b[1;33m:\u001b[0m\u001b[1;33m\u001b[0m\u001b[1;33m\u001b[0m\u001b[0m\n",
      "\u001b[1;32m~\\Anaconda3\\lib\\site-packages\\joblib\\parallel.py\u001b[0m in \u001b[0;36m__call__\u001b[1;34m(self)\u001b[0m\n\u001b[0;32m    223\u001b[0m         \u001b[1;32mwith\u001b[0m \u001b[0mparallel_backend\u001b[0m\u001b[1;33m(\u001b[0m\u001b[0mself\u001b[0m\u001b[1;33m.\u001b[0m\u001b[0m_backend\u001b[0m\u001b[1;33m,\u001b[0m \u001b[0mn_jobs\u001b[0m\u001b[1;33m=\u001b[0m\u001b[0mself\u001b[0m\u001b[1;33m.\u001b[0m\u001b[0m_n_jobs\u001b[0m\u001b[1;33m)\u001b[0m\u001b[1;33m:\u001b[0m\u001b[1;33m\u001b[0m\u001b[1;33m\u001b[0m\u001b[0m\n\u001b[0;32m    224\u001b[0m             return [func(*args, **kwargs)\n\u001b[1;32m--> 225\u001b[1;33m                     for func, args, kwargs in self.items]\n\u001b[0m\u001b[0;32m    226\u001b[0m \u001b[1;33m\u001b[0m\u001b[0m\n\u001b[0;32m    227\u001b[0m     \u001b[1;32mdef\u001b[0m \u001b[0m__len__\u001b[0m\u001b[1;33m(\u001b[0m\u001b[0mself\u001b[0m\u001b[1;33m)\u001b[0m\u001b[1;33m:\u001b[0m\u001b[1;33m\u001b[0m\u001b[1;33m\u001b[0m\u001b[0m\n",
      "\u001b[1;32m~\\Anaconda3\\lib\\site-packages\\joblib\\parallel.py\u001b[0m in \u001b[0;36m<listcomp>\u001b[1;34m(.0)\u001b[0m\n\u001b[0;32m    223\u001b[0m         \u001b[1;32mwith\u001b[0m \u001b[0mparallel_backend\u001b[0m\u001b[1;33m(\u001b[0m\u001b[0mself\u001b[0m\u001b[1;33m.\u001b[0m\u001b[0m_backend\u001b[0m\u001b[1;33m,\u001b[0m \u001b[0mn_jobs\u001b[0m\u001b[1;33m=\u001b[0m\u001b[0mself\u001b[0m\u001b[1;33m.\u001b[0m\u001b[0m_n_jobs\u001b[0m\u001b[1;33m)\u001b[0m\u001b[1;33m:\u001b[0m\u001b[1;33m\u001b[0m\u001b[1;33m\u001b[0m\u001b[0m\n\u001b[0;32m    224\u001b[0m             return [func(*args, **kwargs)\n\u001b[1;32m--> 225\u001b[1;33m                     for func, args, kwargs in self.items]\n\u001b[0m\u001b[0;32m    226\u001b[0m \u001b[1;33m\u001b[0m\u001b[0m\n\u001b[0;32m    227\u001b[0m     \u001b[1;32mdef\u001b[0m \u001b[0m__len__\u001b[0m\u001b[1;33m(\u001b[0m\u001b[0mself\u001b[0m\u001b[1;33m)\u001b[0m\u001b[1;33m:\u001b[0m\u001b[1;33m\u001b[0m\u001b[1;33m\u001b[0m\u001b[0m\n",
      "\u001b[1;32m~\\Anaconda3\\lib\\site-packages\\sklearn\\model_selection\\_validation.py\u001b[0m in \u001b[0;36m_fit_and_score\u001b[1;34m(estimator, X, y, scorer, train, test, verbose, parameters, fit_params, return_train_score, return_parameters, return_n_test_samples, return_times, return_estimator, error_score)\u001b[0m\n\u001b[0;32m    514\u001b[0m             \u001b[0mestimator\u001b[0m\u001b[1;33m.\u001b[0m\u001b[0mfit\u001b[0m\u001b[1;33m(\u001b[0m\u001b[0mX_train\u001b[0m\u001b[1;33m,\u001b[0m \u001b[1;33m**\u001b[0m\u001b[0mfit_params\u001b[0m\u001b[1;33m)\u001b[0m\u001b[1;33m\u001b[0m\u001b[1;33m\u001b[0m\u001b[0m\n\u001b[0;32m    515\u001b[0m         \u001b[1;32melse\u001b[0m\u001b[1;33m:\u001b[0m\u001b[1;33m\u001b[0m\u001b[1;33m\u001b[0m\u001b[0m\n\u001b[1;32m--> 516\u001b[1;33m             \u001b[0mestimator\u001b[0m\u001b[1;33m.\u001b[0m\u001b[0mfit\u001b[0m\u001b[1;33m(\u001b[0m\u001b[0mX_train\u001b[0m\u001b[1;33m,\u001b[0m \u001b[0my_train\u001b[0m\u001b[1;33m,\u001b[0m \u001b[1;33m**\u001b[0m\u001b[0mfit_params\u001b[0m\u001b[1;33m)\u001b[0m\u001b[1;33m\u001b[0m\u001b[1;33m\u001b[0m\u001b[0m\n\u001b[0m\u001b[0;32m    517\u001b[0m \u001b[1;33m\u001b[0m\u001b[0m\n\u001b[0;32m    518\u001b[0m     \u001b[1;32mexcept\u001b[0m \u001b[0mException\u001b[0m \u001b[1;32mas\u001b[0m \u001b[0me\u001b[0m\u001b[1;33m:\u001b[0m\u001b[1;33m\u001b[0m\u001b[1;33m\u001b[0m\u001b[0m\n",
      "\u001b[1;32m~\\Anaconda3\\lib\\site-packages\\sklearn\\linear_model\\coordinate_descent.py\u001b[0m in \u001b[0;36mfit\u001b[1;34m(self, X, y, check_input)\u001b[0m\n\u001b[0;32m    750\u001b[0m                           \u001b[0mrandom_state\u001b[0m\u001b[1;33m=\u001b[0m\u001b[0mself\u001b[0m\u001b[1;33m.\u001b[0m\u001b[0mrandom_state\u001b[0m\u001b[1;33m,\u001b[0m\u001b[1;33m\u001b[0m\u001b[1;33m\u001b[0m\u001b[0m\n\u001b[0;32m    751\u001b[0m                           \u001b[0mselection\u001b[0m\u001b[1;33m=\u001b[0m\u001b[0mself\u001b[0m\u001b[1;33m.\u001b[0m\u001b[0mselection\u001b[0m\u001b[1;33m,\u001b[0m\u001b[1;33m\u001b[0m\u001b[1;33m\u001b[0m\u001b[0m\n\u001b[1;32m--> 752\u001b[1;33m                           check_input=False)\n\u001b[0m\u001b[0;32m    753\u001b[0m             \u001b[0mcoef_\u001b[0m\u001b[1;33m[\u001b[0m\u001b[0mk\u001b[0m\u001b[1;33m]\u001b[0m \u001b[1;33m=\u001b[0m \u001b[0mthis_coef\u001b[0m\u001b[1;33m[\u001b[0m\u001b[1;33m:\u001b[0m\u001b[1;33m,\u001b[0m \u001b[1;36m0\u001b[0m\u001b[1;33m]\u001b[0m\u001b[1;33m\u001b[0m\u001b[1;33m\u001b[0m\u001b[0m\n\u001b[0;32m    754\u001b[0m             \u001b[0mdual_gaps_\u001b[0m\u001b[1;33m[\u001b[0m\u001b[0mk\u001b[0m\u001b[1;33m]\u001b[0m \u001b[1;33m=\u001b[0m \u001b[0mthis_dual_gap\u001b[0m\u001b[1;33m[\u001b[0m\u001b[1;36m0\u001b[0m\u001b[1;33m]\u001b[0m\u001b[1;33m\u001b[0m\u001b[1;33m\u001b[0m\u001b[0m\n",
      "\u001b[1;32m~\\Anaconda3\\lib\\site-packages\\sklearn\\linear_model\\coordinate_descent.py\u001b[0m in \u001b[0;36menet_path\u001b[1;34m(X, y, l1_ratio, eps, n_alphas, alphas, precompute, Xy, copy_X, coef_init, verbose, return_n_iter, positive, check_input, **params)\u001b[0m\n\u001b[0;32m    473\u001b[0m             model = cd_fast.enet_coordinate_descent(\n\u001b[0;32m    474\u001b[0m                 \u001b[0mcoef_\u001b[0m\u001b[1;33m,\u001b[0m \u001b[0ml1_reg\u001b[0m\u001b[1;33m,\u001b[0m \u001b[0ml2_reg\u001b[0m\u001b[1;33m,\u001b[0m \u001b[0mX\u001b[0m\u001b[1;33m,\u001b[0m \u001b[0my\u001b[0m\u001b[1;33m,\u001b[0m \u001b[0mmax_iter\u001b[0m\u001b[1;33m,\u001b[0m \u001b[0mtol\u001b[0m\u001b[1;33m,\u001b[0m \u001b[0mrng\u001b[0m\u001b[1;33m,\u001b[0m \u001b[0mrandom\u001b[0m\u001b[1;33m,\u001b[0m\u001b[1;33m\u001b[0m\u001b[1;33m\u001b[0m\u001b[0m\n\u001b[1;32m--> 475\u001b[1;33m                 positive)\n\u001b[0m\u001b[0;32m    476\u001b[0m         \u001b[1;32melse\u001b[0m\u001b[1;33m:\u001b[0m\u001b[1;33m\u001b[0m\u001b[1;33m\u001b[0m\u001b[0m\n\u001b[0;32m    477\u001b[0m             raise ValueError(\"Precompute should be one of True, False, \"\n",
      "\u001b[1;31mKeyboardInterrupt\u001b[0m: "
     ]
    }
   ],
   "source": [
    "train_sizes = [0.1, 0.2, 0.4, 0.6, 0.7, 0.8,0.9]\n",
    "train_size,train_scores,test_scores = learning_curve(L1_Reg,trX,trY,cv=10,train_sizes=[0.1,0.2,0.4,0.6,0.7,0.8])\n",
    "new_train_scores=train_scores.mean(1)\n",
    "train_std=train_scores.std()\n",
    "test_std=test_scores.std()\n",
    "new_test_scores=test_scores.mean(1)"
   ]
  },
  {
   "cell_type": "code",
   "execution_count": 433,
   "metadata": {},
   "outputs": [
    {
     "data": {
      "image/png": "[encoded data removed]",
      "text/plain": [
       "<Figure size 432x288 with 1 Axes>"
      ]
     },
     "metadata": {
      "needs_background": "light"
     },
     "output_type": "display_data"
    }
   ],
   "source": [
    "plt.grid()\n",
    "plt.fill_between(train_sizes,new_train_scores-train_std,\n",
    "                 new_train_scores+train_std,color='r',alpha=0.1)\n",
    "plt.fill_between(train_sizes,new_test_scores-test_std,\n",
    "                 new_test_scores+test_std,color='g',alpha=0.1)\n",
    " \n",
    "plt.plot(train_sizes,new_train_scores,'*-',c='r',label='train score')\n",
    "plt.plot(train_sizes,new_test_scores,'*-',c='g',label='test score')\n",
    "plt.legend(loc='best')\n",
    "plt.show()"
   ]
  },
  {
   "cell_type": "code",
   "execution_count": 26,
   "metadata": {
    "scrolled": true
   },
   "outputs": [],
   "source": [
    "train_score2, validation_score2 = validation_curve(\n",
    "    tree,\n",
    "    trX,\n",
    "    trY,\n",
    "    param_name='max_depth',\n",
    "    cv=10,\n",
    "    param_range=np.arange(3,10))\n",
    "\n",
    "train_score2_mean=train_score2.mean(1)\n",
    "train_score2_std=train_score2.std(1)\n",
    "validation_score2_mean=validation_score2.mean(1)\n",
    "validation_score2_std=validation_score2.std(1)"
   ]
  },
  {
   "cell_type": "code",
   "execution_count": 27,
   "metadata": {},
   "outputs": [
    {
     "data": {
      "image/png": "[encoded data removed]",
      "text/plain": [
       "<Figure size 432x288 with 1 Axes>"
      ]
     },
     "metadata": {
      "needs_background": "light"
     },
     "output_type": "display_data"
    }
   ],
   "source": [
    "plt.grid()\n",
    "x_axis = np.arange(3,10)\n",
    "plt.fill_between(x_axis,train_score2_mean-train_score2_std,\n",
    "                 train_score2_mean+train_score2_std,color='r',alpha=0.1)\n",
    "plt.fill_between(x_axis,validation_score2_mean-validation_score2_std,\n",
    "                 validation_score2_mean+validation_score2_std,color='g',alpha=0.1)\n",
    " \n",
    "plt.plot(x_axis,train_score2_mean,'o-',c='r',label='train score')\n",
    "plt.plot(x_axis,validation_score2_mean,'o-',c='g',label='validation score')\n",
    "plt.legend(loc='best')\n",
    "plt.show()"
   ]
  },
  {
   "cell_type": "markdown",
   "metadata": {},
   "source": [
    "# All of the features\n",
    "cv = cross_val_score(estimator, trX, trY, cv=5).mean()\n",
    "\n",
    "with open(\"REPORT.csv\", \"a+\") as csvfile:\n",
    "    writer = csv.writer(csvfile)\n",
    "    writer.writerow(['OverallAcc',cv])"
   ]
  },
  {
   "cell_type": "markdown",
   "metadata": {
    "scrolled": true
   },
   "source": [
    "# Level_0 ACC\n",
    "cv_ = []\n",
    "\n",
    "for i in list(train_X.columns.get_level_values(0).unique()):\n",
    "    trX = encoder.fit_transform(train_X.xs(i,level = 0,axis=1))\n",
    "    cv_.append(cross_val_score(estimator, trX, trY, cv=5).mean())\n",
    "\n",
    "with open(\"REPORT.csv\", \"a+\") as csvfile:\n",
    "    writer = csv.writer(csvfile)\n",
    "    writer.writerow([\"\"]+list(train_X.columns.get_level_values(0).unique()))\n",
    "    writer.writerow(['Level_0_Acc']+cv_)"
   ]
  },
  {
   "cell_type": "markdown",
   "metadata": {},
   "source": [
    "# Level_1 ACC\n",
    "cv_=[]\n",
    "\n",
    "for i in list(train_X.columns.get_level_values(1).unique()):\n",
    "    trX = encoder.fit_transform(train_X.xs(i,level = 1,axis=1))\n",
    "    cv_.append(cross_val_score(estimator, trX, trY, cv=5).mean())\n",
    "\n",
    "with open(\"REPORT.csv\", \"a+\") as csvfile:\n",
    "    writer = csv.writer(csvfile)\n",
    "    writer.writerow([\"\"]+list(train_X.columns.get_level_values(1).unique()))\n",
    "    writer.writerow(['Level_1_Acc']+cv_)"
   ]
  },
  {
   "cell_type": "markdown",
   "metadata": {},
   "source": [
    "# Level_2 ACC\n",
    "cv_=[]\n",
    "\n",
    "for i in list(train_X.columns):\n",
    "    trX = encoder.fit_transform(train_X[[i]])\n",
    "    cv_.append(cross_val_score(estimator, trX, trY, cv=5).mean())\n",
    "\n",
    "with open(\"REPORT.csv\", \"a+\") as csvfile:\n",
    "    writer = csv.writer(csvfile)\n",
    "    writer.writerow([\"\"]+list(train_X.columns))\n",
    "    writer.writerow(['Level_2_Acc']+cv_)"
   ]
  },
  {
   "cell_type": "markdown",
   "metadata": {},
   "source": [
    "# Collinarity dection"
   ]
  },
  {
   "cell_type": "markdown",
   "metadata": {},
   "source": [
    "temp = add_constant(trX)\n",
    "VIF_ = [variance_inflation_factor(temp, i) for i in range(temp.shape[1])][1:]\n",
    "df = pd.DataFrame(VIF_)\n",
    "df.to_csv('VIF_.csv')\n",
    "df"
   ]
  }
 ],
 "metadata": {
  "kernelspec": {
   "display_name": "Python 3",
   "language": "python",
   "name": "python3"
  },
  "language_info": {
   "codemirror_mode": {
    "name": "ipython",
    "version": 3
   },
   "file_extension": ".py",
   "mimetype": "text/x-python",
   "name": "python",
   "nbconvert_exporter": "python",
   "pygments_lexer": "ipython3",
   "version": "3.7.4"
  }
 },
 "nbformat": 4,
 "nbformat_minor": 2
}
