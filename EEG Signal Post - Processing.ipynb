{
 "cells": [
  {
   "cell_type": "code",
   "execution_count": 1,
   "metadata": {},
   "outputs": [
    {
     "name": "stderr",
     "output_type": "stream",
     "text": [
      "C:\\Users\\vita7\\Anaconda3\\lib\\site-packages\\sklearn\\externals\\joblib\\__init__.py:15: DeprecationWarning: sklearn.externals.joblib is deprecated in 0.21 and will be removed in 0.23. Please import this functionality directly from joblib, which can be installed with: pip install joblib. If this warning is raised when loading pickled models, you may need to re-serialize those models with scikit-learn 0.21+.\n",
      "  warnings.warn(msg, category=DeprecationWarning)\n"
     ]
    }
   ],
   "source": [
    "%run Package_AND_Parameter.ipynb\n",
    "%run Feature_Selection_Methods.ipynb\n",
    "%run Smoothing.ipynb"
   ]
  },
  {
   "cell_type": "markdown",
   "metadata": {},
   "source": [
    "# READ TRAINING DATA"
   ]
  },
  {
   "cell_type": "code",
   "execution_count": 2,
   "metadata": {},
   "outputs": [
    {
     "name": "stderr",
     "output_type": "stream",
     "text": [
      "C:\\Users\\vita7\\Anaconda3\\lib\\site-packages\\pandas\\core\\generic.py:3946: PerformanceWarning: dropping on a non-lexsorted multi-index without a level parameter may impact performance.\n",
      "  new_axis = axis.drop(labels, errors=errors)\n"
     ]
    }
   ],
   "source": [
    "tr_df = pd.read_csv('training_dataframe_BasicAfterCross.csv', header=[0,1], index_col=[0,1])\n",
    "tr_df.index.names = ['epoch','condition']\n",
    "tr_df.reset_index(level = 1,inplace = True)\n",
    "\n",
    "train_X = tr_df.drop(columns=['condition'])\n",
    "train_Y = tr_df['condition']"
   ]
  },
  {
   "cell_type": "code",
   "execution_count": 3,
   "metadata": {},
   "outputs": [
    {
     "data": {
      "text/html": [
       "<div>\n",
       "<style scoped>\n",
       "    .dataframe tbody tr th:only-of-type {\n",
       "        vertical-align: middle;\n",
       "    }\n",
       "\n",
       "    .dataframe tbody tr th {\n",
       "        vertical-align: top;\n",
       "    }\n",
       "\n",
       "    .dataframe thead tr th {\n",
       "        text-align: left;\n",
       "    }\n",
       "\n",
       "    .dataframe thead tr:last-of-type th {\n",
       "        text-align: right;\n",
       "    }\n",
       "</style>\n",
       "<table border=\"1\" class=\"dataframe\">\n",
       "  <thead>\n",
       "    <tr>\n",
       "      <th>Function</th>\n",
       "      <th colspan=\"10\" halign=\"left\">STD</th>\n",
       "      <th>...</th>\n",
       "      <th colspan=\"10\" halign=\"left\">AutoCorr</th>\n",
       "    </tr>\n",
       "    <tr>\n",
       "      <th>Band</th>\n",
       "      <th>EEG Fpz-Cz</th>\n",
       "      <th>EEG Fpz-Cz Delta</th>\n",
       "      <th>EEG Fpz-Cz Theta</th>\n",
       "      <th>EEG Fpz-Cz Alpha</th>\n",
       "      <th>EEG Fpz-Cz Sigma</th>\n",
       "      <th>EEG Fpz-Cz Beta</th>\n",
       "      <th>EEG Fpz-Cz DOR</th>\n",
       "      <th>EEG Fpz-Cz TOR</th>\n",
       "      <th>EEG Fpz-Cz AOR</th>\n",
       "      <th>EEG Fpz-Cz SOR</th>\n",
       "      <th>...</th>\n",
       "      <th>EEG Fpz-Cz TDR</th>\n",
       "      <th>EEG Fpz-Cz ADR</th>\n",
       "      <th>EEG Fpz-Cz SDR</th>\n",
       "      <th>EEG Fpz-Cz BDR</th>\n",
       "      <th>EEG Fpz-Cz ATR</th>\n",
       "      <th>EEG Fpz-Cz STR</th>\n",
       "      <th>EEG Fpz-Cz BTR</th>\n",
       "      <th>EEG Fpz-Cz SAR</th>\n",
       "      <th>EEG Fpz-Cz BAR</th>\n",
       "      <th>EEG Fpz-Cz BSR</th>\n",
       "    </tr>\n",
       "    <tr>\n",
       "      <th>epoch</th>\n",
       "      <th></th>\n",
       "      <th></th>\n",
       "      <th></th>\n",
       "      <th></th>\n",
       "      <th></th>\n",
       "      <th></th>\n",
       "      <th></th>\n",
       "      <th></th>\n",
       "      <th></th>\n",
       "      <th></th>\n",
       "      <th></th>\n",
       "      <th></th>\n",
       "      <th></th>\n",
       "      <th></th>\n",
       "      <th></th>\n",
       "      <th></th>\n",
       "      <th></th>\n",
       "      <th></th>\n",
       "      <th></th>\n",
       "      <th></th>\n",
       "      <th></th>\n",
       "    </tr>\n",
       "  </thead>\n",
       "  <tbody>\n",
       "    <tr>\n",
       "      <td>2748</td>\n",
       "      <td>26.407742</td>\n",
       "      <td>24.255235</td>\n",
       "      <td>7.452625</td>\n",
       "      <td>3.497335</td>\n",
       "      <td>2.993339</td>\n",
       "      <td>4.003112</td>\n",
       "      <td>0.918490</td>\n",
       "      <td>0.282214</td>\n",
       "      <td>0.132436</td>\n",
       "      <td>0.113351</td>\n",
       "      <td>...</td>\n",
       "      <td>0.945708</td>\n",
       "      <td>0.824932</td>\n",
       "      <td>0.677922</td>\n",
       "      <td>0.126326</td>\n",
       "      <td>0.872291</td>\n",
       "      <td>0.716841</td>\n",
       "      <td>0.133578</td>\n",
       "      <td>0.821791</td>\n",
       "      <td>0.153135</td>\n",
       "      <td>0.186343</td>\n",
       "    </tr>\n",
       "    <tr>\n",
       "      <td>2749</td>\n",
       "      <td>25.602262</td>\n",
       "      <td>24.284328</td>\n",
       "      <td>8.449343</td>\n",
       "      <td>2.863765</td>\n",
       "      <td>2.823556</td>\n",
       "      <td>4.160339</td>\n",
       "      <td>0.948523</td>\n",
       "      <td>0.330023</td>\n",
       "      <td>0.111856</td>\n",
       "      <td>0.110285</td>\n",
       "      <td>...</td>\n",
       "      <td>0.953856</td>\n",
       "      <td>0.833198</td>\n",
       "      <td>0.645946</td>\n",
       "      <td>0.160397</td>\n",
       "      <td>0.873505</td>\n",
       "      <td>0.677195</td>\n",
       "      <td>0.168156</td>\n",
       "      <td>0.775261</td>\n",
       "      <td>0.192508</td>\n",
       "      <td>0.248313</td>\n",
       "    </tr>\n",
       "    <tr>\n",
       "      <td>2750</td>\n",
       "      <td>30.281923</td>\n",
       "      <td>28.666450</td>\n",
       "      <td>8.186485</td>\n",
       "      <td>3.018491</td>\n",
       "      <td>2.588744</td>\n",
       "      <td>3.531993</td>\n",
       "      <td>0.946652</td>\n",
       "      <td>0.270342</td>\n",
       "      <td>0.099680</td>\n",
       "      <td>0.085488</td>\n",
       "      <td>...</td>\n",
       "      <td>0.949807</td>\n",
       "      <td>0.824668</td>\n",
       "      <td>0.673457</td>\n",
       "      <td>0.124984</td>\n",
       "      <td>0.868248</td>\n",
       "      <td>0.709046</td>\n",
       "      <td>0.131589</td>\n",
       "      <td>0.816640</td>\n",
       "      <td>0.151557</td>\n",
       "      <td>0.185586</td>\n",
       "    </tr>\n",
       "    <tr>\n",
       "      <td>2751</td>\n",
       "      <td>24.376224</td>\n",
       "      <td>23.349960</td>\n",
       "      <td>7.907419</td>\n",
       "      <td>2.864568</td>\n",
       "      <td>2.619738</td>\n",
       "      <td>3.676364</td>\n",
       "      <td>0.957899</td>\n",
       "      <td>0.324391</td>\n",
       "      <td>0.117515</td>\n",
       "      <td>0.107471</td>\n",
       "      <td>...</td>\n",
       "      <td>0.957307</td>\n",
       "      <td>0.821846</td>\n",
       "      <td>0.671946</td>\n",
       "      <td>0.134085</td>\n",
       "      <td>0.858498</td>\n",
       "      <td>0.701913</td>\n",
       "      <td>0.140065</td>\n",
       "      <td>0.817606</td>\n",
       "      <td>0.163151</td>\n",
       "      <td>0.199548</td>\n",
       "    </tr>\n",
       "    <tr>\n",
       "      <td>2752</td>\n",
       "      <td>26.753053</td>\n",
       "      <td>25.842193</td>\n",
       "      <td>7.864009</td>\n",
       "      <td>2.899630</td>\n",
       "      <td>2.231749</td>\n",
       "      <td>3.238686</td>\n",
       "      <td>0.965953</td>\n",
       "      <td>0.293948</td>\n",
       "      <td>0.108385</td>\n",
       "      <td>0.083420</td>\n",
       "      <td>...</td>\n",
       "      <td>0.955466</td>\n",
       "      <td>0.828709</td>\n",
       "      <td>0.685718</td>\n",
       "      <td>0.161187</td>\n",
       "      <td>0.867335</td>\n",
       "      <td>0.717679</td>\n",
       "      <td>0.168700</td>\n",
       "      <td>0.827453</td>\n",
       "      <td>0.194504</td>\n",
       "      <td>0.235063</td>\n",
       "    </tr>\n",
       "  </tbody>\n",
       "</table>\n",
       "<p>5 rows × 210 columns</p>\n",
       "</div>"
      ],
      "text/plain": [
       "Function        STD                                                     \\\n",
       "Band     EEG Fpz-Cz EEG Fpz-Cz Delta EEG Fpz-Cz Theta EEG Fpz-Cz Alpha   \n",
       "epoch                                                                    \n",
       "2748      26.407742        24.255235         7.452625         3.497335   \n",
       "2749      25.602262        24.284328         8.449343         2.863765   \n",
       "2750      30.281923        28.666450         8.186485         3.018491   \n",
       "2751      24.376224        23.349960         7.907419         2.864568   \n",
       "2752      26.753053        25.842193         7.864009         2.899630   \n",
       "\n",
       "Function                                                                 \\\n",
       "Band     EEG Fpz-Cz Sigma EEG Fpz-Cz Beta EEG Fpz-Cz DOR EEG Fpz-Cz TOR   \n",
       "epoch                                                                     \n",
       "2748             2.993339        4.003112       0.918490       0.282214   \n",
       "2749             2.823556        4.160339       0.948523       0.330023   \n",
       "2750             2.588744        3.531993       0.946652       0.270342   \n",
       "2751             2.619738        3.676364       0.957899       0.324391   \n",
       "2752             2.231749        3.238686       0.965953       0.293948   \n",
       "\n",
       "Function                                ...       AutoCorr                 \\\n",
       "Band     EEG Fpz-Cz AOR EEG Fpz-Cz SOR  ... EEG Fpz-Cz TDR EEG Fpz-Cz ADR   \n",
       "epoch                                   ...                                 \n",
       "2748           0.132436       0.113351  ...       0.945708       0.824932   \n",
       "2749           0.111856       0.110285  ...       0.953856       0.833198   \n",
       "2750           0.099680       0.085488  ...       0.949807       0.824668   \n",
       "2751           0.117515       0.107471  ...       0.957307       0.821846   \n",
       "2752           0.108385       0.083420  ...       0.955466       0.828709   \n",
       "\n",
       "Function                                                              \\\n",
       "Band     EEG Fpz-Cz SDR EEG Fpz-Cz BDR EEG Fpz-Cz ATR EEG Fpz-Cz STR   \n",
       "epoch                                                                  \n",
       "2748           0.677922       0.126326       0.872291       0.716841   \n",
       "2749           0.645946       0.160397       0.873505       0.677195   \n",
       "2750           0.673457       0.124984       0.868248       0.709046   \n",
       "2751           0.671946       0.134085       0.858498       0.701913   \n",
       "2752           0.685718       0.161187       0.867335       0.717679   \n",
       "\n",
       "Function                                                              \n",
       "Band     EEG Fpz-Cz BTR EEG Fpz-Cz SAR EEG Fpz-Cz BAR EEG Fpz-Cz BSR  \n",
       "epoch                                                                 \n",
       "2748           0.133578       0.821791       0.153135       0.186343  \n",
       "2749           0.168156       0.775261       0.192508       0.248313  \n",
       "2750           0.131589       0.816640       0.151557       0.185586  \n",
       "2751           0.140065       0.817606       0.163151       0.199548  \n",
       "2752           0.168700       0.827453       0.194504       0.235063  \n",
       "\n",
       "[5 rows x 210 columns]"
      ]
     },
     "execution_count": 3,
     "metadata": {},
     "output_type": "execute_result"
    }
   ],
   "source": [
    "train_X.head()"
   ]
  },
  {
   "cell_type": "markdown",
   "metadata": {},
   "source": [
    "### Pick"
   ]
  },
  {
   "cell_type": "code",
   "execution_count": 4,
   "metadata": {},
   "outputs": [],
   "source": [
    "fn = pd.read_csv('features_name_dataframe.csv',header=0)\n",
    "fn_ = [(i,j) for i,j in zip(fn['function'],fn['band'])]\n",
    "fn.head()\n",
    "train_X = train_X[fn_]"
   ]
  },
  {
   "cell_type": "code",
   "execution_count": 5,
   "metadata": {},
   "outputs": [
    {
     "data": {
      "text/html": [
       "<div>\n",
       "<style scoped>\n",
       "    .dataframe tbody tr th:only-of-type {\n",
       "        vertical-align: middle;\n",
       "    }\n",
       "\n",
       "    .dataframe tbody tr th {\n",
       "        vertical-align: top;\n",
       "    }\n",
       "\n",
       "    .dataframe thead tr th {\n",
       "        text-align: left;\n",
       "    }\n",
       "\n",
       "    .dataframe thead tr:last-of-type th {\n",
       "        text-align: right;\n",
       "    }\n",
       "</style>\n",
       "<table border=\"1\" class=\"dataframe\">\n",
       "  <thead>\n",
       "    <tr>\n",
       "      <th>Function</th>\n",
       "      <th>STD</th>\n",
       "      <th>Hjorth_complexity</th>\n",
       "      <th>STD</th>\n",
       "      <th colspan=\"3\" halign=\"left\">PtP_Amp</th>\n",
       "      <th>SVD_entropy</th>\n",
       "      <th>Power</th>\n",
       "      <th colspan=\"2\" halign=\"left\">SVD_entropy</th>\n",
       "      <th>...</th>\n",
       "      <th>Spect_slop</th>\n",
       "      <th>Sample_entropy</th>\n",
       "      <th>AutoCorr</th>\n",
       "      <th>Spect_slop</th>\n",
       "      <th colspan=\"3\" halign=\"left\">Mean_frequency</th>\n",
       "      <th colspan=\"3\" halign=\"left\">AutoCorr</th>\n",
       "    </tr>\n",
       "    <tr>\n",
       "      <th>Band</th>\n",
       "      <th>EEG Fpz-Cz</th>\n",
       "      <th>EEG Fpz-Cz AOR</th>\n",
       "      <th>EEG Fpz-Cz ADR</th>\n",
       "      <th>EEG Fpz-Cz</th>\n",
       "      <th>EEG Fpz-Cz Beta</th>\n",
       "      <th>EEG Fpz-Cz ATR</th>\n",
       "      <th>EEG Fpz-Cz Theta</th>\n",
       "      <th>EEG Fpz-Cz Theta</th>\n",
       "      <th>EEG Fpz-Cz Beta</th>\n",
       "      <th>EEG Fpz-Cz TOR</th>\n",
       "      <th>...</th>\n",
       "      <th>EEG Fpz-Cz STR</th>\n",
       "      <th>EEG Fpz-Cz BAR</th>\n",
       "      <th>EEG Fpz-Cz</th>\n",
       "      <th>EEG Fpz-Cz BSR</th>\n",
       "      <th>EEG Fpz-Cz Delta</th>\n",
       "      <th>EEG Fpz-Cz Sigma</th>\n",
       "      <th>EEG Fpz-Cz TDR</th>\n",
       "      <th>EEG Fpz-Cz SDR</th>\n",
       "      <th>EEG Fpz-Cz BTR</th>\n",
       "      <th>EEG Fpz-Cz BAR</th>\n",
       "    </tr>\n",
       "    <tr>\n",
       "      <th>epoch</th>\n",
       "      <th></th>\n",
       "      <th></th>\n",
       "      <th></th>\n",
       "      <th></th>\n",
       "      <th></th>\n",
       "      <th></th>\n",
       "      <th></th>\n",
       "      <th></th>\n",
       "      <th></th>\n",
       "      <th></th>\n",
       "      <th></th>\n",
       "      <th></th>\n",
       "      <th></th>\n",
       "      <th></th>\n",
       "      <th></th>\n",
       "      <th></th>\n",
       "      <th></th>\n",
       "      <th></th>\n",
       "      <th></th>\n",
       "      <th></th>\n",
       "      <th></th>\n",
       "    </tr>\n",
       "  </thead>\n",
       "  <tbody>\n",
       "    <tr>\n",
       "      <td>2748</td>\n",
       "      <td>26.407742</td>\n",
       "      <td>0.231468</td>\n",
       "      <td>0.144189</td>\n",
       "      <td>167.934896</td>\n",
       "      <td>44.144581</td>\n",
       "      <td>0.356386</td>\n",
       "      <td>0.861388</td>\n",
       "      <td>86.538683</td>\n",
       "      <td>1.469113</td>\n",
       "      <td>0.970318</td>\n",
       "      <td>...</td>\n",
       "      <td>0.148612</td>\n",
       "      <td>2.473788</td>\n",
       "      <td>0.966743</td>\n",
       "      <td>0.243331</td>\n",
       "      <td>1.219523</td>\n",
       "      <td>13.067572</td>\n",
       "      <td>4.465962</td>\n",
       "      <td>0.677922</td>\n",
       "      <td>0.133578</td>\n",
       "      <td>0.153135</td>\n",
       "    </tr>\n",
       "    <tr>\n",
       "      <td>2749</td>\n",
       "      <td>25.602262</td>\n",
       "      <td>0.238435</td>\n",
       "      <td>0.117926</td>\n",
       "      <td>153.949541</td>\n",
       "      <td>45.315804</td>\n",
       "      <td>0.271164</td>\n",
       "      <td>0.830622</td>\n",
       "      <td>200.653428</td>\n",
       "      <td>1.462998</td>\n",
       "      <td>0.919534</td>\n",
       "      <td>...</td>\n",
       "      <td>0.045214</td>\n",
       "      <td>2.131966</td>\n",
       "      <td>0.964581</td>\n",
       "      <td>0.524335</td>\n",
       "      <td>1.414999</td>\n",
       "      <td>13.903433</td>\n",
       "      <td>3.672738</td>\n",
       "      <td>0.645946</td>\n",
       "      <td>0.168156</td>\n",
       "      <td>0.192508</td>\n",
       "    </tr>\n",
       "    <tr>\n",
       "      <td>2750</td>\n",
       "      <td>30.281923</td>\n",
       "      <td>0.196678</td>\n",
       "      <td>0.105297</td>\n",
       "      <td>188.147338</td>\n",
       "      <td>24.239070</td>\n",
       "      <td>0.389205</td>\n",
       "      <td>0.836465</td>\n",
       "      <td>179.869282</td>\n",
       "      <td>1.465026</td>\n",
       "      <td>1.055350</td>\n",
       "      <td>...</td>\n",
       "      <td>0.059970</td>\n",
       "      <td>2.625760</td>\n",
       "      <td>0.977667</td>\n",
       "      <td>0.288481</td>\n",
       "      <td>1.277990</td>\n",
       "      <td>13.037165</td>\n",
       "      <td>4.035992</td>\n",
       "      <td>0.673457</td>\n",
       "      <td>0.131589</td>\n",
       "      <td>0.151557</td>\n",
       "    </tr>\n",
       "    <tr>\n",
       "      <td>2751</td>\n",
       "      <td>24.376224</td>\n",
       "      <td>0.243061</td>\n",
       "      <td>0.122680</td>\n",
       "      <td>145.623302</td>\n",
       "      <td>28.603751</td>\n",
       "      <td>0.367766</td>\n",
       "      <td>0.825780</td>\n",
       "      <td>163.543750</td>\n",
       "      <td>1.464386</td>\n",
       "      <td>0.920081</td>\n",
       "      <td>...</td>\n",
       "      <td>0.073556</td>\n",
       "      <td>2.442390</td>\n",
       "      <td>0.965642</td>\n",
       "      <td>0.352787</td>\n",
       "      <td>1.775817</td>\n",
       "      <td>13.130978</td>\n",
       "      <td>2.795504</td>\n",
       "      <td>0.671946</td>\n",
       "      <td>0.140065</td>\n",
       "      <td>0.163151</td>\n",
       "    </tr>\n",
       "    <tr>\n",
       "      <td>2752</td>\n",
       "      <td>26.753053</td>\n",
       "      <td>0.226135</td>\n",
       "      <td>0.112205</td>\n",
       "      <td>154.736574</td>\n",
       "      <td>31.306376</td>\n",
       "      <td>0.320431</td>\n",
       "      <td>0.828537</td>\n",
       "      <td>176.482817</td>\n",
       "      <td>1.442287</td>\n",
       "      <td>1.013698</td>\n",
       "      <td>...</td>\n",
       "      <td>0.046801</td>\n",
       "      <td>2.409593</td>\n",
       "      <td>0.974621</td>\n",
       "      <td>0.471371</td>\n",
       "      <td>1.716855</td>\n",
       "      <td>12.923802</td>\n",
       "      <td>2.937640</td>\n",
       "      <td>0.685718</td>\n",
       "      <td>0.168700</td>\n",
       "      <td>0.194504</td>\n",
       "    </tr>\n",
       "  </tbody>\n",
       "</table>\n",
       "<p>5 rows × 23 columns</p>\n",
       "</div>"
      ],
      "text/plain": [
       "Function        STD Hjorth_complexity            STD     PtP_Amp  \\\n",
       "Band     EEG Fpz-Cz    EEG Fpz-Cz AOR EEG Fpz-Cz ADR  EEG Fpz-Cz   \n",
       "epoch                                                              \n",
       "2748      26.407742          0.231468       0.144189  167.934896   \n",
       "2749      25.602262          0.238435       0.117926  153.949541   \n",
       "2750      30.281923          0.196678       0.105297  188.147338   \n",
       "2751      24.376224          0.243061       0.122680  145.623302   \n",
       "2752      26.753053          0.226135       0.112205  154.736574   \n",
       "\n",
       "Function                                     SVD_entropy            Power  \\\n",
       "Band     EEG Fpz-Cz Beta EEG Fpz-Cz ATR EEG Fpz-Cz Theta EEG Fpz-Cz Theta   \n",
       "epoch                                                                       \n",
       "2748           44.144581       0.356386         0.861388        86.538683   \n",
       "2749           45.315804       0.271164         0.830622       200.653428   \n",
       "2750           24.239070       0.389205         0.836465       179.869282   \n",
       "2751           28.603751       0.367766         0.825780       163.543750   \n",
       "2752           31.306376       0.320431         0.828537       176.482817   \n",
       "\n",
       "Function     SVD_entropy                 ...     Spect_slop Sample_entropy  \\\n",
       "Band     EEG Fpz-Cz Beta EEG Fpz-Cz TOR  ... EEG Fpz-Cz STR EEG Fpz-Cz BAR   \n",
       "epoch                                    ...                                 \n",
       "2748            1.469113       0.970318  ...       0.148612       2.473788   \n",
       "2749            1.462998       0.919534  ...       0.045214       2.131966   \n",
       "2750            1.465026       1.055350  ...       0.059970       2.625760   \n",
       "2751            1.464386       0.920081  ...       0.073556       2.442390   \n",
       "2752            1.442287       1.013698  ...       0.046801       2.409593   \n",
       "\n",
       "Function   AutoCorr     Spect_slop   Mean_frequency                   \\\n",
       "Band     EEG Fpz-Cz EEG Fpz-Cz BSR EEG Fpz-Cz Delta EEG Fpz-Cz Sigma   \n",
       "epoch                                                                  \n",
       "2748       0.966743       0.243331         1.219523        13.067572   \n",
       "2749       0.964581       0.524335         1.414999        13.903433   \n",
       "2750       0.977667       0.288481         1.277990        13.037165   \n",
       "2751       0.965642       0.352787         1.775817        13.130978   \n",
       "2752       0.974621       0.471371         1.716855        12.923802   \n",
       "\n",
       "Function                      AutoCorr                                \n",
       "Band     EEG Fpz-Cz TDR EEG Fpz-Cz SDR EEG Fpz-Cz BTR EEG Fpz-Cz BAR  \n",
       "epoch                                                                 \n",
       "2748           4.465962       0.677922       0.133578       0.153135  \n",
       "2749           3.672738       0.645946       0.168156       0.192508  \n",
       "2750           4.035992       0.673457       0.131589       0.151557  \n",
       "2751           2.795504       0.671946       0.140065       0.163151  \n",
       "2752           2.937640       0.685718       0.168700       0.194504  \n",
       "\n",
       "[5 rows x 23 columns]"
      ]
     },
     "execution_count": 5,
     "metadata": {},
     "output_type": "execute_result"
    }
   ],
   "source": [
    "train_X.head()"
   ]
  },
  {
   "cell_type": "markdown",
   "metadata": {},
   "source": [
    "# ENCODING & MODEL GENERATING"
   ]
  },
  {
   "cell_type": "code",
   "execution_count": 6,
   "metadata": {},
   "outputs": [],
   "source": [
    "testing_eps = np.sum(pd.read_csv('testing_records_epochs.csv',header=0))\n",
    "training_eps = int(len(train_X)-testing_eps*3)"
   ]
  },
  {
   "cell_type": "code",
   "execution_count": 7,
   "metadata": {},
   "outputs": [
    {
     "name": "stdout",
     "output_type": "stream",
     "text": [
      "<bound method BaseEstimator.get_params of LinearDiscriminantAnalysis(n_components=None, priors=None, shrinkage=None,\n",
      "                           solver='svd', store_covariance=False, tol=0.0001)>\n",
      "(95874, 23)\n",
      "(31737, 23)\n"
     ]
    }
   ],
   "source": [
    "# Label encoding for toget\n",
    "dataY = LabelEncoder().fit_transform(train_Y)\n",
    "trY = dataY[:training_eps]\n",
    "teY = dataY[training_eps:]\n",
    "\n",
    "# Encoding\n",
    "dataX = StandardScaler().fit_transform(train_X)\n",
    "trX = dataX[:training_eps]\n",
    "teX = dataX[training_eps:]\n",
    "estimator = LinearDiscriminantAnalysis()\n",
    "\n",
    "print(estimator.get_params)\n",
    "print(trX.shape)\n",
    "print(teX.shape)"
   ]
  },
  {
   "cell_type": "code",
   "execution_count": 8,
   "metadata": {},
   "outputs": [
    {
     "name": "stdout",
     "output_type": "stream",
     "text": [
      "Sleep stage W = label: [4]\n",
      "Sleep stage 1 = label: [0]\n",
      "Sleep stage 2 = label: [1]\n",
      "Sleep stage 3/4 = label: [2]\n",
      "Sleep stage R = label: [3]\n"
     ]
    }
   ],
   "source": [
    "print('Sleep stage W = label:',np.unique(dataY[np.where(tr_df['condition'] == 'Sleep stage W')[0]]))\n",
    "print('Sleep stage 1 = label:',np.unique(dataY[np.where(tr_df['condition'] == 'Sleep stage 1')[0]]))\n",
    "print('Sleep stage 2 = label:',np.unique(dataY[np.where(tr_df['condition'] == 'Sleep stage 2')[0]]))\n",
    "print('Sleep stage 3/4 = label:',np.unique(dataY[np.where(tr_df['condition'] == 'Sleep stage 3/4')[0]]))\n",
    "print('Sleep stage R = label:',np.unique(dataY[np.where(tr_df['condition'] == 'Sleep stage R')[0]]))"
   ]
  },
  {
   "cell_type": "markdown",
   "metadata": {},
   "source": [
    "# VISUALIZATION AND FEATURE CLEANING"
   ]
  },
  {
   "cell_type": "code",
   "execution_count": 16,
   "metadata": {},
   "outputs": [],
   "source": [
    "clf_name = 'kNN'\n",
    "clf = KNN(0.05)\n",
    "clf.fit(trX)\n",
    "outlier_pred = clf.labels_\n",
    "outlier_scores = clf.decision_scores_"
   ]
  },
  {
   "cell_type": "code",
   "execution_count": 17,
   "metadata": {},
   "outputs": [],
   "source": [
    "train_outlier_idx = np.where(outlier_pred==1)[0]"
   ]
  },
  {
   "cell_type": "markdown",
   "metadata": {},
   "source": [
    "# FEATURES SELECTION"
   ]
  },
  {
   "cell_type": "markdown",
   "metadata": {},
   "source": [
    "### Kruskal-wallis"
   ]
  },
  {
   "cell_type": "code",
   "execution_count": 1361,
   "metadata": {},
   "outputs": [
    {
     "name": "stdout",
     "output_type": "stream",
     "text": [
      "23\n"
     ]
    }
   ],
   "source": [
    "idx = Kruskal_Wallis_Selection_Method(data=trX, condition=23)"
   ]
  },
  {
   "cell_type": "markdown",
   "metadata": {},
   "source": [
    "### Combine"
   ]
  },
  {
   "cell_type": "code",
   "execution_count": 1362,
   "metadata": {},
   "outputs": [
    {
     "data": {
      "text/plain": [
       "\"\\nidx = list(set(idx))\\ntrX = trX[:,idx]\\nteX = teX[:,idx]\\nfeatures_name = [list(tr_df.columns)[i+1] for i in idx]\\nfeatures_name_dataframe = pd.DataFrame(features_name)\\nfeatures_name_dataframe.columns = ['function','band']\\nfeatures_name_dataframe.to_csv('features_name_dataframe.csv',index=0)\\nprint(trX.shape)\\nprint(teX.shape)\\nprint(features_name)\\n\""
      ]
     },
     "execution_count": 1362,
     "metadata": {},
     "output_type": "execute_result"
    }
   ],
   "source": [
    "\"\"\"\n",
    "idx = list(set(idx))\n",
    "trX = trX[:,idx]\n",
    "teX = teX[:,idx]\n",
    "features_name = [list(tr_df.columns)[i+1] for i in idx]\n",
    "features_name_dataframe = pd.DataFrame(features_name)\n",
    "features_name_dataframe.columns = ['function','band']\n",
    "features_name_dataframe.to_csv('features_name_dataframe.csv',index=0)\n",
    "print(trX.shape)\n",
    "print(teX.shape)\n",
    "print(features_name)\n",
    "\"\"\""
   ]
  },
  {
   "cell_type": "markdown",
   "metadata": {},
   "source": [
    "# FIT MODEL (K-FOLD)"
   ]
  },
  {
   "cell_type": "code",
   "execution_count": 1363,
   "metadata": {
    "scrolled": true
   },
   "outputs": [
    {
     "name": "stdout",
     "output_type": "stream",
     "text": [
      "              precision    recall  f1-score   support\n",
      "\n",
      "           0       0.36      0.21      0.26       395\n",
      "           1       0.90      0.87      0.88      2581\n",
      "           2       0.85      0.87      0.86       790\n",
      "           3       0.64      0.84      0.73      1066\n",
      "           4       0.90      0.83      0.86      1560\n",
      "\n",
      "    accuracy                           0.81      6392\n",
      "   macro avg       0.73      0.72      0.72      6392\n",
      "weighted avg       0.82      0.81      0.81      6392\n",
      "\n",
      "0.7472296917939778\n",
      "              precision    recall  f1-score   support\n",
      "\n",
      "           0       0.28      0.20      0.23       348\n",
      "           1       0.89      0.87      0.88      2537\n",
      "           2       0.88      0.85      0.86       814\n",
      "           3       0.65      0.85      0.74      1097\n",
      "           4       0.90      0.82      0.86      1596\n",
      "\n",
      "    accuracy                           0.82      6392\n",
      "   macro avg       0.72      0.72      0.71      6392\n",
      "weighted avg       0.82      0.82      0.81      6392\n",
      "\n",
      "0.7485592022778107\n",
      "              precision    recall  f1-score   support\n",
      "\n",
      "           0       0.30      0.20      0.24       378\n",
      "           1       0.89      0.87      0.88      2490\n",
      "           2       0.87      0.87      0.87       821\n",
      "           3       0.65      0.85      0.73      1086\n",
      "           4       0.91      0.81      0.86      1617\n",
      "\n",
      "    accuracy                           0.81      6392\n",
      "   macro avg       0.72      0.72      0.72      6392\n",
      "weighted avg       0.82      0.81      0.81      6392\n",
      "\n",
      "0.7471270384965947\n",
      "              precision    recall  f1-score   support\n",
      "\n",
      "           0       0.37      0.22      0.27       374\n",
      "           1       0.90      0.86      0.88      2617\n",
      "           2       0.86      0.87      0.86       778\n",
      "           3       0.64      0.86      0.74      1061\n",
      "           4       0.89      0.83      0.86      1561\n",
      "\n",
      "    accuracy                           0.82      6391\n",
      "   macro avg       0.73      0.73      0.72      6391\n",
      "weighted avg       0.82      0.82      0.81      6391\n",
      "\n",
      "0.7486314466313854\n",
      "              precision    recall  f1-score   support\n",
      "\n",
      "           0       0.35      0.22      0.27       387\n",
      "           1       0.90      0.87      0.88      2550\n",
      "           2       0.87      0.89      0.88       812\n",
      "           3       0.64      0.85      0.73      1067\n",
      "           4       0.89      0.82      0.86      1575\n",
      "\n",
      "    accuracy                           0.82      6391\n",
      "   macro avg       0.73      0.73      0.72      6391\n",
      "weighted avg       0.82      0.82      0.81      6391\n",
      "\n",
      "0.7513332785480175\n"
     ]
    }
   ],
   "source": [
    "kp = REPORT(estimator=estimator,X=trX,Y=trY,kf=5)"
   ]
  },
  {
   "cell_type": "code",
   "execution_count": null,
   "metadata": {},
   "outputs": [],
   "source": []
  },
  {
   "cell_type": "markdown",
   "metadata": {},
   "source": [
    "# TRAINING & SAVE MODEL"
   ]
  },
  {
   "cell_type": "code",
   "execution_count": 1364,
   "metadata": {},
   "outputs": [],
   "source": [
    "clf = LinearDiscriminantAnalysis()\n",
    "clf.fit(trX,trY)\n",
    "with open('LDA_BASIC.pickle','wb') as f:\n",
    "     pickle.dump(clf, f)"
   ]
  },
  {
   "cell_type": "markdown",
   "metadata": {},
   "source": [
    "# CALL MODEL"
   ]
  },
  {
   "cell_type": "markdown",
   "metadata": {},
   "source": [
    "## EM Smoothing"
   ]
  },
  {
   "cell_type": "markdown",
   "metadata": {},
   "source": [
    "* 平穩性平滑\n",
    "* R&K準則平滑\n",
    "* 眾數濾波器"
   ]
  },
  {
   "cell_type": "code",
   "execution_count": 1365,
   "metadata": {},
   "outputs": [],
   "source": [
    "pickle_in = open('LDA_BASIC.pickle', 'rb')\n",
    "clf = pickle.load(pickle_in)\n",
    "score = clf.decision_function(teX)\n",
    "n = len(teX)\n",
    "pred1, label , score = smoothing(estimator=clf, score=score, n=n, label=teY)\n",
    "pred2 = smoothingII(pred1)\n",
    "pred = smoothingIII(pred2)"
   ]
  },
  {
   "cell_type": "code",
   "execution_count": 1366,
   "metadata": {
    "scrolled": false
   },
   "outputs": [
    {
     "name": "stdout",
     "output_type": "stream",
     "text": [
      "              precision    recall  f1-score   support\n",
      "\n",
      "           0       0.35      0.20      0.25       478\n",
      "           1       0.86      0.84      0.85      3606\n",
      "           2       0.88      0.79      0.83      1466\n",
      "           3       0.71      0.85      0.77      1723\n",
      "           4       0.91      0.93      0.92      3306\n",
      "\n",
      "    accuracy                           0.83     10579\n",
      "   macro avg       0.74      0.72      0.73     10579\n",
      "weighted avg       0.83      0.83      0.83     10579\n",
      "\n",
      "[[  95   62    1  240   80]\n",
      " [  29 3032  157  282  106]\n",
      " [   0  229 1164    1   72]\n",
      " [  26  191    0 1470   36]\n",
      " [ 123   30    1   90 3062]]\n",
      "0.7745040216494893\n"
     ]
    },
    {
     "data": {
      "text/plain": [
       "37478"
      ]
     },
     "execution_count": 1366,
     "metadata": {},
     "output_type": "execute_result"
    }
   ],
   "source": [
    "print(classification_report(y_pred=pred, y_true=label))\n",
    "print(confusion_matrix(y_true=label, y_pred=pred))\n",
    "print(cohen_kappa_score(pred, label))\n",
    "\n",
    "del pickle_in, clf, n\n",
    "gc.collect()"
   ]
  },
  {
   "cell_type": "code",
   "execution_count": 1367,
   "metadata": {},
   "outputs": [
    {
     "name": "stdout",
     "output_type": "stream",
     "text": [
      "Kappa:\n",
      "0.7472296917939778\n",
      "0.7485592022778107\n",
      "0.7471270384965947\n",
      "0.7486314466313854\n",
      "0.7513332785480175\n",
      "Kappa testing: 0.7745040216494893\n"
     ]
    }
   ],
   "source": [
    "print('Kappa:')\n",
    "for k in kp:\n",
    "    print(k)\n",
    "\n",
    "print('Kappa testing:',cohen_kappa_score(pred, label))"
   ]
  }
 ],
 "metadata": {
  "kernelspec": {
   "display_name": "Python 3",
   "language": "python",
   "name": "python3"
  },
  "language_info": {
   "codemirror_mode": {
    "name": "ipython",
    "version": 3
   },
   "file_extension": ".py",
   "mimetype": "text/x-python",
   "name": "python",
   "nbconvert_exporter": "python",
   "pygments_lexer": "ipython3",
   "version": "3.7.4"
  }
 },
 "nbformat": 4,
 "nbformat_minor": 2
}
