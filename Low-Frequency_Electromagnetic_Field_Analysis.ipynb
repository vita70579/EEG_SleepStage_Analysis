{
 "cells": [
  {
   "cell_type": "code",
   "execution_count": 252,
   "metadata": {},
   "outputs": [],
   "source": [
    "%run Package_AND_Parameter.ipynb\n",
    "%run Features_Calculation.ipynb\n",
    "%run Smoothing.ipynb\n",
    "gc.enable()"
   ]
  },
  {
   "cell_type": "markdown",
   "metadata": {},
   "source": [
    "# Read Data"
   ]
  },
  {
   "cell_type": "code",
   "execution_count": 253,
   "metadata": {},
   "outputs": [
    {
     "data": {
      "text/plain": [
       "9523200"
      ]
     },
     "execution_count": 253,
     "metadata": {},
     "output_type": "execute_result"
    }
   ],
   "source": [
    "raw = pd.read_csv('E:/七天/0703_YiAn_emf1.csv', header=None)\n",
    "len(raw)"
   ]
  },
  {
   "cell_type": "code",
   "execution_count": 254,
   "metadata": {
    "scrolled": true
   },
   "outputs": [],
   "source": [
    "# read data / cropping\n",
    "raw = raw.values.flatten() * (900 / 4096)"
   ]
  },
  {
   "cell_type": "code",
   "execution_count": 255,
   "metadata": {},
   "outputs": [
    {
     "data": {
      "text/plain": [
       "9523200"
      ]
     },
     "execution_count": 255,
     "metadata": {},
     "output_type": "execute_result"
    }
   ],
   "source": [
    "len(raw)"
   ]
  },
  {
   "cell_type": "code",
   "execution_count": 256,
   "metadata": {},
   "outputs": [
    {
     "name": "stdout",
     "output_type": "stream",
     "text": [
      "Setting up band-pass filter from 0.5 - 30 Hz\n",
      "\n",
      "FIR filter parameters\n",
      "---------------------\n",
      "Designing a one-pass, zero-phase, non-causal bandpass filter:\n",
      "- Windowed time-domain design (firwin) method\n",
      "- Hamming window with 0.0194 passband ripple and 53 dB stopband attenuation\n",
      "- Lower passband edge: 0.50\n",
      "- Lower transition bandwidth: 0.50 Hz (-6 dB cutoff frequency: 0.25 Hz)\n",
      "- Upper passband edge: 30.00 Hz\n",
      "- Upper transition bandwidth: 7.50 Hz (-6 dB cutoff frequency: 33.75 Hz)\n",
      "- Filter length: 661 samples (6.610 sec)\n",
      "\n"
     ]
    }
   ],
   "source": [
    "# Extract EEG\n",
    "eeg = mne.filter.filter_data(raw, sfreq=sfreq, l_freq=0.5, h_freq=30)"
   ]
  },
  {
   "cell_type": "code",
   "execution_count": 257,
   "metadata": {},
   "outputs": [
    {
     "data": {
      "text/plain": [
       "9523200"
      ]
     },
     "execution_count": 257,
     "metadata": {},
     "output_type": "execute_result"
    }
   ],
   "source": [
    "len(eeg)"
   ]
  },
  {
   "cell_type": "code",
   "execution_count": 258,
   "metadata": {},
   "outputs": [],
   "source": [
    "# resampling\n",
    "df = pd.DataFrame()\n",
    "df['EEG Fpz-Cz'] = signal.resample(eeg,int(sfreq*(len(raw)/512))).flatten()"
   ]
  },
  {
   "cell_type": "code",
   "execution_count": 259,
   "metadata": {},
   "outputs": [
    {
     "data": {
      "text/html": [
       "<div>\n",
       "<style scoped>\n",
       "    .dataframe tbody tr th:only-of-type {\n",
       "        vertical-align: middle;\n",
       "    }\n",
       "\n",
       "    .dataframe tbody tr th {\n",
       "        vertical-align: top;\n",
       "    }\n",
       "\n",
       "    .dataframe thead th {\n",
       "        text-align: right;\n",
       "    }\n",
       "</style>\n",
       "<table border=\"1\" class=\"dataframe\">\n",
       "  <thead>\n",
       "    <tr style=\"text-align: right;\">\n",
       "      <th></th>\n",
       "      <th>EEG Fpz-Cz</th>\n",
       "    </tr>\n",
       "  </thead>\n",
       "  <tbody>\n",
       "    <tr>\n",
       "      <td>0</td>\n",
       "      <td>9.115258</td>\n",
       "    </tr>\n",
       "    <tr>\n",
       "      <td>1</td>\n",
       "      <td>17.674779</td>\n",
       "    </tr>\n",
       "    <tr>\n",
       "      <td>2</td>\n",
       "      <td>14.239071</td>\n",
       "    </tr>\n",
       "    <tr>\n",
       "      <td>3</td>\n",
       "      <td>8.700454</td>\n",
       "    </tr>\n",
       "    <tr>\n",
       "      <td>4</td>\n",
       "      <td>19.310743</td>\n",
       "    </tr>\n",
       "    <tr>\n",
       "      <td>...</td>\n",
       "      <td>...</td>\n",
       "    </tr>\n",
       "    <tr>\n",
       "      <td>1859995</td>\n",
       "      <td>1.775832</td>\n",
       "    </tr>\n",
       "    <tr>\n",
       "      <td>1859996</td>\n",
       "      <td>3.865781</td>\n",
       "    </tr>\n",
       "    <tr>\n",
       "      <td>1859997</td>\n",
       "      <td>-5.629421</td>\n",
       "    </tr>\n",
       "    <tr>\n",
       "      <td>1859998</td>\n",
       "      <td>-2.008005</td>\n",
       "    </tr>\n",
       "    <tr>\n",
       "      <td>1859999</td>\n",
       "      <td>-2.443382</td>\n",
       "    </tr>\n",
       "  </tbody>\n",
       "</table>\n",
       "<p>1860000 rows × 1 columns</p>\n",
       "</div>"
      ],
      "text/plain": [
       "         EEG Fpz-Cz\n",
       "0          9.115258\n",
       "1         17.674779\n",
       "2         14.239071\n",
       "3          8.700454\n",
       "4         19.310743\n",
       "...             ...\n",
       "1859995    1.775832\n",
       "1859996    3.865781\n",
       "1859997   -5.629421\n",
       "1859998   -2.008005\n",
       "1859999   -2.443382\n",
       "\n",
       "[1860000 rows x 1 columns]"
      ]
     },
     "execution_count": 259,
     "metadata": {},
     "output_type": "execute_result"
    }
   ],
   "source": [
    "df"
   ]
  },
  {
   "cell_type": "code",
   "execution_count": 260,
   "metadata": {},
   "outputs": [],
   "source": [
    "index = []\n",
    "for ep in range(int(len(df['EEG Fpz-Cz'])/(ep_duration*sfreq))):\n",
    "    for time in range(int(ep_duration*sfreq)):\n",
    "        index.append((ep,10*time))\n",
    "\n",
    "Multi_idx = pd.MultiIndex.from_tuples(index,names=['epoch','time'])\n",
    "\n",
    "df.columns.name = 'channel'\n",
    "df.index = Multi_idx"
   ]
  },
  {
   "cell_type": "code",
   "execution_count": 261,
   "metadata": {},
   "outputs": [
    {
     "data": {
      "text/html": [
       "<div>\n",
       "<style scoped>\n",
       "    .dataframe tbody tr th:only-of-type {\n",
       "        vertical-align: middle;\n",
       "    }\n",
       "\n",
       "    .dataframe tbody tr th {\n",
       "        vertical-align: top;\n",
       "    }\n",
       "\n",
       "    .dataframe thead th {\n",
       "        text-align: right;\n",
       "    }\n",
       "</style>\n",
       "<table border=\"1\" class=\"dataframe\">\n",
       "  <thead>\n",
       "    <tr style=\"text-align: right;\">\n",
       "      <th></th>\n",
       "      <th>channel</th>\n",
       "      <th>EEG Fpz-Cz</th>\n",
       "    </tr>\n",
       "    <tr>\n",
       "      <th>epoch</th>\n",
       "      <th>time</th>\n",
       "      <th></th>\n",
       "    </tr>\n",
       "  </thead>\n",
       "  <tbody>\n",
       "    <tr>\n",
       "      <td rowspan=\"5\" valign=\"top\">0</td>\n",
       "      <td>0</td>\n",
       "      <td>9.115258</td>\n",
       "    </tr>\n",
       "    <tr>\n",
       "      <td>10</td>\n",
       "      <td>17.674779</td>\n",
       "    </tr>\n",
       "    <tr>\n",
       "      <td>20</td>\n",
       "      <td>14.239071</td>\n",
       "    </tr>\n",
       "    <tr>\n",
       "      <td>30</td>\n",
       "      <td>8.700454</td>\n",
       "    </tr>\n",
       "    <tr>\n",
       "      <td>40</td>\n",
       "      <td>19.310743</td>\n",
       "    </tr>\n",
       "  </tbody>\n",
       "</table>\n",
       "</div>"
      ],
      "text/plain": [
       "channel     EEG Fpz-Cz\n",
       "epoch time            \n",
       "0     0       9.115258\n",
       "      10     17.674779\n",
       "      20     14.239071\n",
       "      30      8.700454\n",
       "      40     19.310743"
      ]
     },
     "execution_count": 261,
     "metadata": {},
     "output_type": "execute_result"
    }
   ],
   "source": [
    "df.head()"
   ]
  },
  {
   "cell_type": "markdown",
   "metadata": {},
   "source": [
    "# Denoise"
   ]
  },
  {
   "cell_type": "code",
   "execution_count": null,
   "metadata": {},
   "outputs": [],
   "source": []
  },
  {
   "cell_type": "markdown",
   "metadata": {},
   "source": [
    "# Format"
   ]
  },
  {
   "cell_type": "code",
   "execution_count": 262,
   "metadata": {
    "scrolled": true
   },
   "outputs": [
    {
     "name": "stdout",
     "output_type": "stream",
     "text": [
      "Setting up band-pass filter from 0.5 - 4.5 Hz\n",
      "\n",
      "FIR filter parameters\n",
      "---------------------\n",
      "Designing a one-pass, zero-phase, non-causal bandpass filter:\n",
      "- Windowed time-domain design (firwin) method\n",
      "- Hamming window with 0.0194 passband ripple and 53 dB stopband attenuation\n",
      "- Lower passband edge: 0.50\n",
      "- Lower transition bandwidth: 0.50 Hz (-6 dB cutoff frequency: 0.25 Hz)\n",
      "- Upper passband edge: 4.50 Hz\n",
      "- Upper transition bandwidth: 2.00 Hz (-6 dB cutoff frequency: 5.50 Hz)\n",
      "- Filter length: 661 samples (6.610 sec)\n",
      "\n"
     ]
    },
    {
     "name": "stderr",
     "output_type": "stream",
     "text": [
      "C:\\Users\\vita7\\Anaconda3\\lib\\site-packages\\ipykernel_launcher.py:27: SettingWithCopyWarning: \n",
      "A value is trying to be set on a copy of a slice from a DataFrame.\n",
      "Try using .loc[row_indexer,col_indexer] = value instead\n",
      "\n",
      "See the caveats in the documentation: http://pandas.pydata.org/pandas-docs/stable/user_guide/indexing.html#returning-a-view-versus-a-copy\n"
     ]
    },
    {
     "name": "stdout",
     "output_type": "stream",
     "text": [
      "Setting up band-pass filter from 4.5 - 8.5 Hz\n",
      "\n",
      "FIR filter parameters\n",
      "---------------------\n",
      "Designing a one-pass, zero-phase, non-causal bandpass filter:\n",
      "- Windowed time-domain design (firwin) method\n",
      "- Hamming window with 0.0194 passband ripple and 53 dB stopband attenuation\n",
      "- Lower passband edge: 4.50\n",
      "- Lower transition bandwidth: 2.00 Hz (-6 dB cutoff frequency: 3.50 Hz)\n",
      "- Upper passband edge: 8.50 Hz\n",
      "- Upper transition bandwidth: 2.12 Hz (-6 dB cutoff frequency: 9.56 Hz)\n",
      "- Filter length: 165 samples (1.650 sec)\n",
      "\n"
     ]
    },
    {
     "name": "stderr",
     "output_type": "stream",
     "text": [
      "C:\\Users\\vita7\\Anaconda3\\lib\\site-packages\\ipykernel_launcher.py:31: SettingWithCopyWarning: \n",
      "A value is trying to be set on a copy of a slice from a DataFrame.\n",
      "Try using .loc[row_indexer,col_indexer] = value instead\n",
      "\n",
      "See the caveats in the documentation: http://pandas.pydata.org/pandas-docs/stable/user_guide/indexing.html#returning-a-view-versus-a-copy\n"
     ]
    },
    {
     "name": "stdout",
     "output_type": "stream",
     "text": [
      "Setting up band-pass filter from 8.5 - 12 Hz\n",
      "\n",
      "FIR filter parameters\n",
      "---------------------\n",
      "Designing a one-pass, zero-phase, non-causal bandpass filter:\n",
      "- Windowed time-domain design (firwin) method\n",
      "- Hamming window with 0.0194 passband ripple and 53 dB stopband attenuation\n",
      "- Lower passband edge: 8.50\n",
      "- Lower transition bandwidth: 2.12 Hz (-6 dB cutoff frequency: 7.44 Hz)\n",
      "- Upper passband edge: 11.50 Hz\n",
      "- Upper transition bandwidth: 2.88 Hz (-6 dB cutoff frequency: 12.94 Hz)\n",
      "- Filter length: 155 samples (1.550 sec)\n",
      "\n"
     ]
    },
    {
     "name": "stderr",
     "output_type": "stream",
     "text": [
      "C:\\Users\\vita7\\Anaconda3\\lib\\site-packages\\ipykernel_launcher.py:35: SettingWithCopyWarning: \n",
      "A value is trying to be set on a copy of a slice from a DataFrame.\n",
      "Try using .loc[row_indexer,col_indexer] = value instead\n",
      "\n",
      "See the caveats in the documentation: http://pandas.pydata.org/pandas-docs/stable/user_guide/indexing.html#returning-a-view-versus-a-copy\n"
     ]
    },
    {
     "name": "stdout",
     "output_type": "stream",
     "text": [
      "Setting up band-pass filter from 12 - 16 Hz\n",
      "\n",
      "FIR filter parameters\n",
      "---------------------\n",
      "Designing a one-pass, zero-phase, non-causal bandpass filter:\n",
      "- Windowed time-domain design (firwin) method\n",
      "- Hamming window with 0.0194 passband ripple and 53 dB stopband attenuation\n",
      "- Lower passband edge: 11.50\n",
      "- Lower transition bandwidth: 2.88 Hz (-6 dB cutoff frequency: 10.06 Hz)\n",
      "- Upper passband edge: 15.50 Hz\n",
      "- Upper transition bandwidth: 3.88 Hz (-6 dB cutoff frequency: 17.44 Hz)\n",
      "- Filter length: 115 samples (1.150 sec)\n",
      "\n"
     ]
    },
    {
     "name": "stderr",
     "output_type": "stream",
     "text": [
      "C:\\Users\\vita7\\Anaconda3\\lib\\site-packages\\ipykernel_launcher.py:39: SettingWithCopyWarning: \n",
      "A value is trying to be set on a copy of a slice from a DataFrame.\n",
      "Try using .loc[row_indexer,col_indexer] = value instead\n",
      "\n",
      "See the caveats in the documentation: http://pandas.pydata.org/pandas-docs/stable/user_guide/indexing.html#returning-a-view-versus-a-copy\n"
     ]
    },
    {
     "name": "stdout",
     "output_type": "stream",
     "text": [
      "Setting up band-pass filter from 16 - 30 Hz\n",
      "\n",
      "FIR filter parameters\n",
      "---------------------\n",
      "Designing a one-pass, zero-phase, non-causal bandpass filter:\n",
      "- Windowed time-domain design (firwin) method\n",
      "- Hamming window with 0.0194 passband ripple and 53 dB stopband attenuation\n",
      "- Lower passband edge: 15.50\n",
      "- Lower transition bandwidth: 3.88 Hz (-6 dB cutoff frequency: 13.56 Hz)\n",
      "- Upper passband edge: 30.00 Hz\n",
      "- Upper transition bandwidth: 7.50 Hz (-6 dB cutoff frequency: 33.75 Hz)\n",
      "- Filter length: 85 samples (0.850 sec)\n",
      "\n"
     ]
    },
    {
     "name": "stderr",
     "output_type": "stream",
     "text": [
      "C:\\Users\\vita7\\Anaconda3\\lib\\site-packages\\ipykernel_launcher.py:43: SettingWithCopyWarning: \n",
      "A value is trying to be set on a copy of a slice from a DataFrame.\n",
      "Try using .loc[row_indexer,col_indexer] = value instead\n",
      "\n",
      "See the caveats in the documentation: http://pandas.pydata.org/pandas-docs/stable/user_guide/indexing.html#returning-a-view-versus-a-copy\n"
     ]
    }
   ],
   "source": [
    "# data balance\n",
    "con_len = list(\n",
    "    df.groupby(level=['epoch']).count()['EEG Fpz-Cz'] /\n",
    "    (ep_duration * sfreq))  # epochs\n",
    "drop_len = np.floor(con_len[-1] - np.mean(con_len[:4]))  # epochs\n",
    "\n",
    "star = ((int(np.floor(drop_len / 2) * (ep_duration * sfreq))) //\n",
    "        int(int(smoothing_factor) * ep_duration * sfreq)) * int(\n",
    "            int(smoothing_factor) * ep_duration * sfreq)\n",
    "end = int(\n",
    "    (np.sum(con_len) - np.floor(drop_len / 2)) * (ep_duration * sfreq))\n",
    "end = end - ((end - star) % int(smoothing_factor * ep_duration * sfreq))\n",
    "\n",
    "df = df[star:end]\n",
    "\n",
    "# Basic Filter\n",
    "\"\"\"\n",
    "df['EEG Fpz-Cz'] = mne.filter.filter_data(raw,\n",
    "                                          sfreq=sfreq,\n",
    "                                          l_freq=0.5,\n",
    "                                          h_freq=30)\n",
    "\"\"\"\n",
    "# 5 frequency bands\n",
    "df['EEG Fpz-Cz Delta'] = mne.filter.filter_data(df['EEG Fpz-Cz'],\n",
    "                                                sfreq=100,\n",
    "                                                l_freq=0.5,\n",
    "                                                h_freq=4.5)\n",
    "df['EEG Fpz-Cz Theta'] = mne.filter.filter_data(df['EEG Fpz-Cz'],\n",
    "                                                sfreq=100,\n",
    "                                                l_freq=4.5,\n",
    "                                                h_freq=8.5)\n",
    "df['EEG Fpz-Cz Alpha'] = mne.filter.filter_data(df['EEG Fpz-Cz'],\n",
    "                                                sfreq=100,\n",
    "                                                l_freq=8.5,\n",
    "                                                h_freq=11.5)\n",
    "df['EEG Fpz-Cz Sigma'] = mne.filter.filter_data(df['EEG Fpz-Cz'],\n",
    "                                                sfreq=100,\n",
    "                                                l_freq=11.5,\n",
    "                                                h_freq=15.5)\n",
    "df['EEG Fpz-Cz Beta'] = mne.filter.filter_data(df['EEG Fpz-Cz'],\n",
    "                                               sfreq=100,\n",
    "                                               l_freq=15.5,\n",
    "                                               h_freq=30)"
   ]
  },
  {
   "cell_type": "code",
   "execution_count": 263,
   "metadata": {},
   "outputs": [
    {
     "data": {
      "text/html": [
       "<div>\n",
       "<style scoped>\n",
       "    .dataframe tbody tr th:only-of-type {\n",
       "        vertical-align: middle;\n",
       "    }\n",
       "\n",
       "    .dataframe tbody tr th {\n",
       "        vertical-align: top;\n",
       "    }\n",
       "\n",
       "    .dataframe thead th {\n",
       "        text-align: right;\n",
       "    }\n",
       "</style>\n",
       "<table border=\"1\" class=\"dataframe\">\n",
       "  <thead>\n",
       "    <tr style=\"text-align: right;\">\n",
       "      <th></th>\n",
       "      <th>channel</th>\n",
       "      <th>EEG Fpz-Cz</th>\n",
       "      <th>EEG Fpz-Cz Delta</th>\n",
       "      <th>EEG Fpz-Cz Theta</th>\n",
       "      <th>EEG Fpz-Cz Alpha</th>\n",
       "      <th>EEG Fpz-Cz Sigma</th>\n",
       "      <th>EEG Fpz-Cz Beta</th>\n",
       "    </tr>\n",
       "    <tr>\n",
       "      <th>epoch</th>\n",
       "      <th>time</th>\n",
       "      <th></th>\n",
       "      <th></th>\n",
       "      <th></th>\n",
       "      <th></th>\n",
       "      <th></th>\n",
       "      <th></th>\n",
       "    </tr>\n",
       "  </thead>\n",
       "  <tbody>\n",
       "    <tr>\n",
       "      <td rowspan=\"5\" valign=\"top\">0</td>\n",
       "      <td>0</td>\n",
       "      <td>9.115258</td>\n",
       "      <td>3.275158e-15</td>\n",
       "      <td>1.776357e-15</td>\n",
       "      <td>1.776357e-15</td>\n",
       "      <td>-8.881784e-16</td>\n",
       "      <td>-2.664535e-15</td>\n",
       "    </tr>\n",
       "    <tr>\n",
       "      <td>10</td>\n",
       "      <td>17.674779</td>\n",
       "      <td>-9.616702e-01</td>\n",
       "      <td>1.702194e+00</td>\n",
       "      <td>2.013231e+00</td>\n",
       "      <td>1.726843e+00</td>\n",
       "      <td>5.488082e+00</td>\n",
       "    </tr>\n",
       "    <tr>\n",
       "      <td>20</td>\n",
       "      <td>14.239071</td>\n",
       "      <td>-1.881413e+00</td>\n",
       "      <td>2.944464e+00</td>\n",
       "      <td>3.305904e+00</td>\n",
       "      <td>2.219935e+00</td>\n",
       "      <td>-1.086573e+00</td>\n",
       "    </tr>\n",
       "    <tr>\n",
       "      <td>30</td>\n",
       "      <td>8.700454</td>\n",
       "      <td>-2.715775e+00</td>\n",
       "      <td>3.406528e+00</td>\n",
       "      <td>3.394190e+00</td>\n",
       "      <td>1.279242e+00</td>\n",
       "      <td>-2.462842e+00</td>\n",
       "    </tr>\n",
       "    <tr>\n",
       "      <td>40</td>\n",
       "      <td>19.310743</td>\n",
       "      <td>-3.423300e+00</td>\n",
       "      <td>2.973725e+00</td>\n",
       "      <td>2.176913e+00</td>\n",
       "      <td>-1.323764e-01</td>\n",
       "      <td>1.121222e+00</td>\n",
       "    </tr>\n",
       "  </tbody>\n",
       "</table>\n",
       "</div>"
      ],
      "text/plain": [
       "channel     EEG Fpz-Cz  EEG Fpz-Cz Delta  EEG Fpz-Cz Theta  EEG Fpz-Cz Alpha  \\\n",
       "epoch time                                                                     \n",
       "0     0       9.115258      3.275158e-15      1.776357e-15      1.776357e-15   \n",
       "      10     17.674779     -9.616702e-01      1.702194e+00      2.013231e+00   \n",
       "      20     14.239071     -1.881413e+00      2.944464e+00      3.305904e+00   \n",
       "      30      8.700454     -2.715775e+00      3.406528e+00      3.394190e+00   \n",
       "      40     19.310743     -3.423300e+00      2.973725e+00      2.176913e+00   \n",
       "\n",
       "channel     EEG Fpz-Cz Sigma  EEG Fpz-Cz Beta  \n",
       "epoch time                                     \n",
       "0     0        -8.881784e-16    -2.664535e-15  \n",
       "      10        1.726843e+00     5.488082e+00  \n",
       "      20        2.219935e+00    -1.086573e+00  \n",
       "      30        1.279242e+00    -2.462842e+00  \n",
       "      40       -1.323764e-01     1.121222e+00  "
      ]
     },
     "execution_count": 263,
     "metadata": {},
     "output_type": "execute_result"
    }
   ],
   "source": [
    "df.head()"
   ]
  },
  {
   "cell_type": "markdown",
   "metadata": {},
   "source": [
    "# FEATURE CALCULATION"
   ]
  },
  {
   "cell_type": "code",
   "execution_count": 264,
   "metadata": {},
   "outputs": [],
   "source": [
    "# multi processing\n",
    "def applyParallel(dfGrouped, func):\n",
    "    retLst = Parallel(n_jobs=mp.cpu_count())(delayed(func)(group)\n",
    "                                             for name, group in dfGrouped)\n",
    "    return pd.concat(retLst, axis=1).T"
   ]
  },
  {
   "cell_type": "code",
   "execution_count": 265,
   "metadata": {},
   "outputs": [],
   "source": [
    "def Features_Calculate(df):\n",
    "    grouped = df.groupby(level=['epoch'])\n",
    "    temps = []\n",
    "    \"\"\"=======================================================================================================================\"\"\"\n",
    "    temps.append(grouped.std())\n",
    "    temps.append(\n",
    "        applyParallel(\n",
    "            grouped,\n",
    "            lambda x: pd.Series(univariate.compute_ptp_amp(x.T.values))))\n",
    "    temps.append(\n",
    "        applyParallel(grouped, lambda x: x.apply(Power, sfreq=100, axis=0)))\n",
    "\n",
    "    temps.append(applyParallel(grouped, lambda x: x.apply(Spect_slop, axis=0)))\n",
    "\n",
    "    temps.append(\n",
    "        applyParallel(grouped, lambda x: x.apply(Mean_frequency, axis=0)))\n",
    "    temps.append(\n",
    "        applyParallel(\n",
    "            grouped, lambda x: pd.Series(\n",
    "                univariate.compute_hjorth_complexity(x.T.values))))\n",
    "    temps.append(\n",
    "        applyParallel(\n",
    "            grouped, lambda x: x.apply(spectral_entropy,\n",
    "                                       sf=sfreq,\n",
    "                                       method='welch',\n",
    "                                       normalize=False,\n",
    "                                       axis=0)))\n",
    "    temps.append(\n",
    "        applyParallel(\n",
    "            grouped, lambda x: x.apply(\n",
    "                svd_entropy, order=3, delay=1, normalize=False, axis=0)))\n",
    "    temps.append(\n",
    "        applyParallel(grouped,\n",
    "                      lambda x: x.apply(sample_entropy, order=2, axis=0)))\n",
    "    temps.append(\n",
    "        applyParallel(grouped, lambda x: x.apply(AutoCorr, k=1, axis=0)))\n",
    "    \"\"\"================================================================================\"\"\"\n",
    "\n",
    "    res = pd.concat(temps, axis=1)\n",
    "    cols = [(i, j) for i in funcs_n for j in six_bands_n]\n",
    "    res.columns = pd.MultiIndex.from_tuples(tuples=cols,\n",
    "                                            names=['Function', 'Band'])\n",
    "    res.index.names = ['epoch']\n",
    "\n",
    "    return res"
   ]
  },
  {
   "cell_type": "code",
   "execution_count": 266,
   "metadata": {},
   "outputs": [],
   "source": [
    "train_X = Features_Calculate(df)"
   ]
  },
  {
   "cell_type": "code",
   "execution_count": 267,
   "metadata": {},
   "outputs": [
    {
     "data": {
      "text/html": [
       "<div>\n",
       "<style scoped>\n",
       "    .dataframe tbody tr th:only-of-type {\n",
       "        vertical-align: middle;\n",
       "    }\n",
       "\n",
       "    .dataframe tbody tr th {\n",
       "        vertical-align: top;\n",
       "    }\n",
       "\n",
       "    .dataframe thead tr th {\n",
       "        text-align: left;\n",
       "    }\n",
       "\n",
       "    .dataframe thead tr:last-of-type th {\n",
       "        text-align: right;\n",
       "    }\n",
       "</style>\n",
       "<table border=\"1\" class=\"dataframe\">\n",
       "  <thead>\n",
       "    <tr>\n",
       "      <th>Function</th>\n",
       "      <th colspan=\"10\" halign=\"left\">STD</th>\n",
       "      <th>...</th>\n",
       "      <th colspan=\"10\" halign=\"left\">AutoCorr</th>\n",
       "    </tr>\n",
       "    <tr>\n",
       "      <th>Band</th>\n",
       "      <th>EEG Fpz-Cz</th>\n",
       "      <th>EEG Fpz-Cz Delta</th>\n",
       "      <th>EEG Fpz-Cz Theta</th>\n",
       "      <th>EEG Fpz-Cz Alpha</th>\n",
       "      <th>EEG Fpz-Cz Sigma</th>\n",
       "      <th>EEG Fpz-Cz Beta</th>\n",
       "      <th>EEG Fpz-Cz DOR</th>\n",
       "      <th>EEG Fpz-Cz TOR</th>\n",
       "      <th>EEG Fpz-Cz AOR</th>\n",
       "      <th>EEG Fpz-Cz SOR</th>\n",
       "      <th>...</th>\n",
       "      <th>EEG Fpz-Cz TDR</th>\n",
       "      <th>EEG Fpz-Cz ADR</th>\n",
       "      <th>EEG Fpz-Cz SDR</th>\n",
       "      <th>EEG Fpz-Cz BDR</th>\n",
       "      <th>EEG Fpz-Cz ATR</th>\n",
       "      <th>EEG Fpz-Cz STR</th>\n",
       "      <th>EEG Fpz-Cz BTR</th>\n",
       "      <th>EEG Fpz-Cz SAR</th>\n",
       "      <th>EEG Fpz-Cz BAR</th>\n",
       "      <th>EEG Fpz-Cz BSR</th>\n",
       "    </tr>\n",
       "    <tr>\n",
       "      <th>epoch</th>\n",
       "      <th></th>\n",
       "      <th></th>\n",
       "      <th></th>\n",
       "      <th></th>\n",
       "      <th></th>\n",
       "      <th></th>\n",
       "      <th></th>\n",
       "      <th></th>\n",
       "      <th></th>\n",
       "      <th></th>\n",
       "      <th></th>\n",
       "      <th></th>\n",
       "      <th></th>\n",
       "      <th></th>\n",
       "      <th></th>\n",
       "      <th></th>\n",
       "      <th></th>\n",
       "      <th></th>\n",
       "      <th></th>\n",
       "      <th></th>\n",
       "      <th></th>\n",
       "    </tr>\n",
       "  </thead>\n",
       "  <tbody>\n",
       "    <tr>\n",
       "      <td>0</td>\n",
       "      <td>13.671440</td>\n",
       "      <td>10.351921</td>\n",
       "      <td>8.014609</td>\n",
       "      <td>3.816722</td>\n",
       "      <td>3.161183</td>\n",
       "      <td>5.403106</td>\n",
       "      <td>0.757193</td>\n",
       "      <td>0.586230</td>\n",
       "      <td>0.279175</td>\n",
       "      <td>0.231225</td>\n",
       "      <td>...</td>\n",
       "      <td>0.959439</td>\n",
       "      <td>0.840060</td>\n",
       "      <td>0.693790</td>\n",
       "      <td>0.048442</td>\n",
       "      <td>0.875575</td>\n",
       "      <td>0.723121</td>\n",
       "      <td>0.050490</td>\n",
       "      <td>0.825881</td>\n",
       "      <td>0.057665</td>\n",
       "      <td>0.069823</td>\n",
       "    </tr>\n",
       "    <tr>\n",
       "      <td>1</td>\n",
       "      <td>10.661066</td>\n",
       "      <td>8.484853</td>\n",
       "      <td>5.848859</td>\n",
       "      <td>2.234185</td>\n",
       "      <td>2.153613</td>\n",
       "      <td>4.303240</td>\n",
       "      <td>0.795873</td>\n",
       "      <td>0.548619</td>\n",
       "      <td>0.209565</td>\n",
       "      <td>0.202007</td>\n",
       "      <td>...</td>\n",
       "      <td>0.966874</td>\n",
       "      <td>0.827315</td>\n",
       "      <td>0.674836</td>\n",
       "      <td>0.045565</td>\n",
       "      <td>0.855659</td>\n",
       "      <td>0.697957</td>\n",
       "      <td>0.047126</td>\n",
       "      <td>0.815695</td>\n",
       "      <td>0.055075</td>\n",
       "      <td>0.067520</td>\n",
       "    </tr>\n",
       "    <tr>\n",
       "      <td>2</td>\n",
       "      <td>10.833179</td>\n",
       "      <td>8.084077</td>\n",
       "      <td>6.482207</td>\n",
       "      <td>3.036601</td>\n",
       "      <td>2.344976</td>\n",
       "      <td>4.224407</td>\n",
       "      <td>0.746233</td>\n",
       "      <td>0.598366</td>\n",
       "      <td>0.280306</td>\n",
       "      <td>0.216462</td>\n",
       "      <td>...</td>\n",
       "      <td>0.953623</td>\n",
       "      <td>0.844640</td>\n",
       "      <td>0.678874</td>\n",
       "      <td>0.025879</td>\n",
       "      <td>0.885717</td>\n",
       "      <td>0.711890</td>\n",
       "      <td>0.027137</td>\n",
       "      <td>0.803744</td>\n",
       "      <td>0.030639</td>\n",
       "      <td>0.038120</td>\n",
       "    </tr>\n",
       "    <tr>\n",
       "      <td>3</td>\n",
       "      <td>12.974246</td>\n",
       "      <td>9.874813</td>\n",
       "      <td>7.481862</td>\n",
       "      <td>4.256017</td>\n",
       "      <td>3.832374</td>\n",
       "      <td>4.366159</td>\n",
       "      <td>0.761109</td>\n",
       "      <td>0.576670</td>\n",
       "      <td>0.328036</td>\n",
       "      <td>0.295383</td>\n",
       "      <td>...</td>\n",
       "      <td>0.946072</td>\n",
       "      <td>0.841128</td>\n",
       "      <td>0.672100</td>\n",
       "      <td>0.198352</td>\n",
       "      <td>0.889075</td>\n",
       "      <td>0.710411</td>\n",
       "      <td>0.209659</td>\n",
       "      <td>0.799046</td>\n",
       "      <td>0.235817</td>\n",
       "      <td>0.295123</td>\n",
       "    </tr>\n",
       "    <tr>\n",
       "      <td>4</td>\n",
       "      <td>12.232891</td>\n",
       "      <td>9.451097</td>\n",
       "      <td>7.435710</td>\n",
       "      <td>3.167362</td>\n",
       "      <td>2.976489</td>\n",
       "      <td>4.586915</td>\n",
       "      <td>0.772597</td>\n",
       "      <td>0.607846</td>\n",
       "      <td>0.258922</td>\n",
       "      <td>0.243319</td>\n",
       "      <td>...</td>\n",
       "      <td>0.964840</td>\n",
       "      <td>0.834003</td>\n",
       "      <td>0.667507</td>\n",
       "      <td>0.142151</td>\n",
       "      <td>0.864395</td>\n",
       "      <td>0.691832</td>\n",
       "      <td>0.147331</td>\n",
       "      <td>0.800365</td>\n",
       "      <td>0.170444</td>\n",
       "      <td>0.212958</td>\n",
       "    </tr>\n",
       "  </tbody>\n",
       "</table>\n",
       "<p>5 rows × 210 columns</p>\n",
       "</div>"
      ],
      "text/plain": [
       "Function        STD                                                     \\\n",
       "Band     EEG Fpz-Cz EEG Fpz-Cz Delta EEG Fpz-Cz Theta EEG Fpz-Cz Alpha   \n",
       "epoch                                                                    \n",
       "0         13.671440        10.351921         8.014609         3.816722   \n",
       "1         10.661066         8.484853         5.848859         2.234185   \n",
       "2         10.833179         8.084077         6.482207         3.036601   \n",
       "3         12.974246         9.874813         7.481862         4.256017   \n",
       "4         12.232891         9.451097         7.435710         3.167362   \n",
       "\n",
       "Function                                                                 \\\n",
       "Band     EEG Fpz-Cz Sigma EEG Fpz-Cz Beta EEG Fpz-Cz DOR EEG Fpz-Cz TOR   \n",
       "epoch                                                                     \n",
       "0                3.161183        5.403106       0.757193       0.586230   \n",
       "1                2.153613        4.303240       0.795873       0.548619   \n",
       "2                2.344976        4.224407       0.746233       0.598366   \n",
       "3                3.832374        4.366159       0.761109       0.576670   \n",
       "4                2.976489        4.586915       0.772597       0.607846   \n",
       "\n",
       "Function                                ...       AutoCorr                 \\\n",
       "Band     EEG Fpz-Cz AOR EEG Fpz-Cz SOR  ... EEG Fpz-Cz TDR EEG Fpz-Cz ADR   \n",
       "epoch                                   ...                                 \n",
       "0              0.279175       0.231225  ...       0.959439       0.840060   \n",
       "1              0.209565       0.202007  ...       0.966874       0.827315   \n",
       "2              0.280306       0.216462  ...       0.953623       0.844640   \n",
       "3              0.328036       0.295383  ...       0.946072       0.841128   \n",
       "4              0.258922       0.243319  ...       0.964840       0.834003   \n",
       "\n",
       "Function                                                              \\\n",
       "Band     EEG Fpz-Cz SDR EEG Fpz-Cz BDR EEG Fpz-Cz ATR EEG Fpz-Cz STR   \n",
       "epoch                                                                  \n",
       "0              0.693790       0.048442       0.875575       0.723121   \n",
       "1              0.674836       0.045565       0.855659       0.697957   \n",
       "2              0.678874       0.025879       0.885717       0.711890   \n",
       "3              0.672100       0.198352       0.889075       0.710411   \n",
       "4              0.667507       0.142151       0.864395       0.691832   \n",
       "\n",
       "Function                                                              \n",
       "Band     EEG Fpz-Cz BTR EEG Fpz-Cz SAR EEG Fpz-Cz BAR EEG Fpz-Cz BSR  \n",
       "epoch                                                                 \n",
       "0              0.050490       0.825881       0.057665       0.069823  \n",
       "1              0.047126       0.815695       0.055075       0.067520  \n",
       "2              0.027137       0.803744       0.030639       0.038120  \n",
       "3              0.209659       0.799046       0.235817       0.295123  \n",
       "4              0.147331       0.800365       0.170444       0.212958  \n",
       "\n",
       "[5 rows x 210 columns]"
      ]
     },
     "execution_count": 267,
     "metadata": {},
     "output_type": "execute_result"
    }
   ],
   "source": [
    "# Feature cross\n",
    "lev1_comblist = list(combinations(six_bands_n, r=2))\n",
    "\n",
    "for fes in funcs_n:\n",
    "    cInd = int((funcs_n.index(fes) + 1) * len(six_bands_n) +\n",
    "               funcs_n.index(fes) * len(ratio_n))\n",
    "\n",
    "    i = 0\n",
    "    for rn, coms in zip(ratio_n, lev1_comblist):\n",
    "        ncol = (fes, rn)\n",
    "        nval = train_X[(fes, coms[1])] / train_X[(fes, coms[0])]\n",
    "        train_X.insert(loc=(cInd + i), column=ncol, value=nval)\n",
    "        i = i + 1\n",
    "\n",
    "        del rn, coms, ncol, nval\n",
    "    del fes\n",
    "gc.collect()\n",
    "train_X.head()"
   ]
  },
  {
   "cell_type": "markdown",
   "metadata": {},
   "source": [
    "## Pick"
   ]
  },
  {
   "cell_type": "code",
   "execution_count": 268,
   "metadata": {},
   "outputs": [],
   "source": [
    "fn = pd.read_csv('features_name_dataframe.csv',header=0)\n",
    "fn_ = [(i,j) for i,j in zip(fn['function'],fn['band'])]\n",
    "fn.head()\n",
    "train_X = train_X[fn_]"
   ]
  },
  {
   "cell_type": "markdown",
   "metadata": {},
   "source": [
    "## Encoding"
   ]
  },
  {
   "cell_type": "code",
   "execution_count": 269,
   "metadata": {},
   "outputs": [
    {
     "name": "stdout",
     "output_type": "stream",
     "text": [
      "<bound method BaseEstimator.get_params of LinearDiscriminantAnalysis(n_components=None, priors=None, shrinkage=None,\n",
      "                           solver='svd', store_covariance=False, tol=0.0001)>\n",
      "(1860, 23)\n"
     ]
    }
   ],
   "source": [
    "# Encoding\n",
    "teX = StandardScaler().fit_transform(train_X)\n",
    "estimator = LinearDiscriminantAnalysis()\n",
    "print(estimator.get_params)\n",
    "print(teX.shape)"
   ]
  },
  {
   "cell_type": "code",
   "execution_count": 270,
   "metadata": {},
   "outputs": [],
   "source": [
    "pickle_in = open('LDA_BASIC.pickle', 'rb')\n",
    "clf = pickle.load(pickle_in)\n",
    "score = clf.decision_function(teX)\n",
    "n = len(teX)\n",
    "pred1,score = smoothing_testing(estimator=clf, score=score, n=n)\n",
    "pred2 = smoothingII_testing(pred1)\n",
    "pred = smoothingIII(pred2)"
   ]
  },
  {
   "cell_type": "code",
   "execution_count": 271,
   "metadata": {},
   "outputs": [
    {
     "data": {
      "text/plain": [
       "array([4, 4, 4, 4, 4, 4, 4, 4, 4, 4, 4, 4, 4, 4, 4, 4, 4, 4, 4, 4, 4, 4,\n",
       "       4, 4, 4, 4, 4, 4, 4, 4, 4, 4, 4, 4, 4, 4, 4, 4, 4, 4, 4, 4, 4, 4,\n",
       "       4, 4, 4, 0, 1, 3, 1, 1, 1, 1, 1, 1, 4, 4, 4, 4, 4, 1, 3, 3, 3, 3,\n",
       "       3, 3, 3, 3, 3, 3, 1, 4, 4, 3, 3, 3, 1, 1, 1, 1, 1, 1, 1, 1, 1, 1,\n",
       "       1, 4, 4, 4, 4, 1, 1, 1, 1, 1, 1, 1, 1, 4, 4, 4, 4, 3, 3, 3, 4, 4,\n",
       "       0, 3, 3, 3, 3, 3, 1, 1, 1, 1, 1, 1, 1, 1, 1, 1, 1, 1, 1, 1, 1, 1,\n",
       "       1, 1, 1, 1, 1, 1, 1, 1, 1, 1, 1, 1, 1, 1, 1, 1, 1, 1, 1, 1, 1, 1,\n",
       "       1, 1, 1, 1, 1, 1, 1, 2, 2, 2, 2, 2, 2, 2, 2, 2, 2, 2, 2, 2, 2, 2,\n",
       "       2, 2, 2, 2, 2, 2, 2, 2, 2, 2, 2, 2, 2, 2, 2, 2, 2, 2, 2, 2, 2, 2,\n",
       "       2, 2, 2, 2, 2, 2, 2, 2, 2, 2, 2, 2, 2, 2, 2, 2, 2, 2, 2, 2, 2, 2,\n",
       "       2, 2, 2, 4, 4, 1, 1, 1, 1, 1, 1, 1, 1, 2, 2, 2, 2, 2, 2, 2, 2, 4,\n",
       "       4, 4, 4, 1, 1, 1, 1, 1, 1, 1, 1, 1, 1, 1, 1, 1, 3, 3, 3, 3, 3, 3,\n",
       "       3, 3, 3, 3, 3, 3, 3, 3, 3, 3, 1, 4, 1, 0, 0, 1, 4, 1, 3, 0, 0, 4,\n",
       "       4, 4, 4, 1, 1, 1, 1, 1, 1, 1, 1, 1, 1, 1, 1, 1, 1, 4, 4, 4, 4, 4,\n",
       "       4, 0, 1, 1, 1, 1, 1, 1, 4, 3, 3, 3, 3, 3, 3, 3, 3, 3, 3, 3, 3, 3,\n",
       "       3, 3, 3, 3, 3, 3, 1, 1, 1, 1, 1, 1, 1, 1, 1, 1, 1, 1, 1, 1, 1, 1,\n",
       "       1, 1, 1, 1, 1, 1, 1, 1, 1, 1, 1, 1, 1, 1, 1, 1, 1, 1, 1, 4, 3, 0,\n",
       "       1, 0, 4, 4, 4, 4, 1, 1, 1, 1, 4, 4, 4, 4, 4, 4, 4, 4, 3, 3, 3, 3,\n",
       "       3, 3, 3, 3, 3, 4, 4, 4, 4, 4, 1, 1, 1, 1, 1, 4, 3, 4, 1, 1, 1, 1,\n",
       "       3, 3, 3, 1, 4, 4, 4, 4, 1, 0, 3, 3, 3, 3, 3, 3, 3, 0, 4, 0, 1, 1,\n",
       "       1, 4, 4, 3, 3, 3, 3, 3, 3, 3, 3, 3, 3, 3, 3, 4, 4, 4, 4, 4, 0, 3,\n",
       "       3, 3, 3, 3, 0, 0, 0, 0, 0, 4, 4, 1, 3, 3, 4, 4, 4, 4, 4, 1, 1, 1,\n",
       "       3, 4, 4, 0, 1, 1, 1, 1, 1, 1, 4, 4, 4, 4, 4, 1, 1, 1, 1, 1, 1, 1,\n",
       "       1, 1, 1, 1, 3, 3, 3, 3, 3, 3, 3, 3, 3, 3, 3, 3, 3, 3, 4, 4, 1, 3,\n",
       "       3, 3, 1, 1, 1, 1, 1, 1, 1, 1, 1, 1, 3, 3, 4, 1, 1, 1, 1, 1, 1, 1,\n",
       "       1, 1, 1, 1, 1, 1, 1, 1, 1, 1, 1, 1, 1, 1, 1, 1, 1, 1, 1, 1, 1, 1,\n",
       "       1, 1, 1, 1, 1, 1, 1, 1, 1, 1, 1, 1, 1, 1, 1, 1, 1, 1, 1, 1, 1, 1,\n",
       "       1, 1, 1, 1, 1, 1, 1, 1, 1, 3, 3, 3, 3, 3, 3, 3, 3, 3, 3, 3, 3, 3,\n",
       "       3, 3, 4, 4], dtype=int64)"
      ]
     },
     "execution_count": 271,
     "metadata": {},
     "output_type": "execute_result"
    }
   ],
   "source": [
    "pred"
   ]
  },
  {
   "cell_type": "code",
   "execution_count": 272,
   "metadata": {},
   "outputs": [
    {
     "name": "stdout",
     "output_type": "stream",
     "text": [
      "sleep efficiency: 0.7838709677419354\n"
     ]
    }
   ],
   "source": [
    "print('sleep efficiency:',len(pred[pred!=4])/len(pred))"
   ]
  },
  {
   "cell_type": "code",
   "execution_count": 273,
   "metadata": {},
   "outputs": [
    {
     "data": {
      "text/plain": [
       "(array([0, 1, 2, 3, 4], dtype=int64),\n",
       " array([ 19, 264,  70, 133, 134], dtype=int64))"
      ]
     },
     "execution_count": 273,
     "metadata": {},
     "output_type": "execute_result"
    }
   ],
   "source": [
    "np.unique(pred,return_counts=True)"
   ]
  },
  {
   "cell_type": "code",
   "execution_count": 274,
   "metadata": {},
   "outputs": [
    {
     "data": {
      "text/plain": [
       "array([ 1,  1,  1,  1,  1,  1,  1,  1,  1,  1,  1,  1,  1,  1,  1,  1,  1,\n",
       "        1,  1,  1,  1,  1,  1,  1,  1,  1,  1,  1,  1,  1,  1,  1,  1,  1,\n",
       "        1,  1,  1,  1,  1,  1,  1,  1,  1,  1,  1,  1,  1,  1,  1,  1,  1,\n",
       "        1,  1,  1,  1,  1,  1,  1,  1,  1,  1, 11,  1,  1,  1,  1,  1,  1,\n",
       "        1], dtype=int64)"
      ]
     },
     "execution_count": 274,
     "metadata": {},
     "output_type": "execute_result"
    }
   ],
   "source": [
    "sws = np.where(pred == 2)\n",
    "sws[0][1:]-sws[0][:-1]"
   ]
  },
  {
   "cell_type": "code",
   "execution_count": 275,
   "metadata": {},
   "outputs": [
    {
     "data": {
      "text/plain": [
       "620"
      ]
     },
     "execution_count": 275,
     "metadata": {},
     "output_type": "execute_result"
    }
   ],
   "source": [
    "len(pred)"
   ]
  },
  {
   "cell_type": "code",
   "execution_count": 276,
   "metadata": {},
   "outputs": [
    {
     "data": {
      "text/plain": [
       "([<matplotlib.axis.YTick at 0x1e59546ce48>,\n",
       "  <matplotlib.axis.YTick at 0x1e5954a2f88>,\n",
       "  <matplotlib.axis.YTick at 0x1e5983bc508>,\n",
       "  <matplotlib.axis.YTick at 0x1e5982cb648>,\n",
       "  <matplotlib.axis.YTick at 0x1e5982cb208>],\n",
       " [Text(0, 0, 'W'),\n",
       "  Text(0, 0, 'REM'),\n",
       "  Text(0, 0, 'S1'),\n",
       "  Text(0, 0, 'S2'),\n",
       "  Text(0, 0, 'SWS')])"
      ]
     },
     "execution_count": 276,
     "metadata": {},
     "output_type": "execute_result"
    },
    {
     "data": {
      "image/png": "[encoded data removed]",
      "text/plain": [
       "<Figure size 1080x432 with 1 Axes>"
      ]
     },
     "metadata": {
      "needs_background": "light"
     },
     "output_type": "display_data"
    }
   ],
   "source": [
    "font_title = {'family': 'Times New Roman', 'weight': 'normal', 'size': 24}\n",
    "font_tick = {'family': 'Times New Roman', 'weight': 'normal', 'size': 18}\n",
    "s1 = np.where(pred==0)[0]\n",
    "sws = np.where(pred==2)[0]\n",
    "pred[s1] = 2\n",
    "pred[sws] = 0\n",
    "plt.figure(figsize=(15, 6))\n",
    "plt.plot(range(0,30*len(pred),30),pred)\n",
    "plt.title('Sleep periodogram - Day2', fontdict=font,pad=20)\n",
    "plt.xlabel('Time (s)',fontdict=font_tick)\n",
    "plt.ylabel('Stage',fontdict=font_tick)\n",
    "plt.yticks([4, 3, 2, 1, 0], ['W', 'REM', 'S1', 'S2', 'SWS'],fontproperties = 'Times New Roman', size = 14)"
   ]
  }
 ],
 "metadata": {
  "kernelspec": {
   "display_name": "Python 3",
   "language": "python",
   "name": "python3"
  },
  "language_info": {
   "codemirror_mode": {
    "name": "ipython",
    "version": 3
   },
   "file_extension": ".py",
   "mimetype": "text/x-python",
   "name": "python",
   "nbconvert_exporter": "python",
   "pygments_lexer": "ipython3",
   "version": "3.7.4"
  }
 },
 "nbformat": 4,
 "nbformat_minor": 2
}
