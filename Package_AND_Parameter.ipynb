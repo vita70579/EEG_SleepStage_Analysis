{
 "cells": [
  {
   "cell_type": "markdown",
   "metadata": {},
   "source": [
    "## Package"
   ]
  },
  {
   "cell_type": "markdown",
   "metadata": {},
   "source": [
    "### General"
   ]
  },
  {
   "cell_type": "code",
   "execution_count": 1,
   "metadata": {},
   "outputs": [],
   "source": [
    "import re\n",
    "import numpy as np\n",
    "import pandas as pd\n",
    "import mne\n",
    "import time\n",
    "import multiprocessing as mp\n",
    "from joblib import Parallel, delayed\n",
    "from itertools import combinations, permutations\n",
    "import csv\n",
    "import os\n",
    "import math\n",
    "from tqdm import tqdm\n",
    "import gc\n",
    "%matplotlib inline"
   ]
  },
  {
   "cell_type": "markdown",
   "metadata": {},
   "source": [
    "### Statistics and Muchine Learning"
   ]
  },
  {
   "cell_type": "code",
   "execution_count": 8,
   "metadata": {},
   "outputs": [],
   "source": [
    "from scipy import stats\n",
    "from sklearn.preprocessing import MinMaxScaler, StandardScaler, LabelEncoder\n",
    "from sklearn import feature_selection\n",
    "from sklearn.model_selection import KFold,StratifiedKFold\n",
    "from sklearn.metrics import classification_report, confusion_matrix, cohen_kappa_score\n",
    "from sklearn.model_selection import learning_curve\n",
    "from sklearn.model_selection import validation_curve\n",
    "from sklearn.model_selection import GridSearchCV\n",
    "from sklearn.model_selection import cross_val_score\n",
    "import pickle\n",
    "from sklearn.discriminant_analysis import LinearDiscriminantAnalysis\n",
    "from pyod.models.abod import ABOD\n",
    "from pyod.models.knn import KNN"
   ]
  },
  {
   "cell_type": "markdown",
   "metadata": {},
   "source": [
    "### Signal processing"
   ]
  },
  {
   "cell_type": "code",
   "execution_count": 3,
   "metadata": {},
   "outputs": [],
   "source": [
    "import scipy.signal as signal\n",
    "from scipy import interpolate"
   ]
  },
  {
   "cell_type": "markdown",
   "metadata": {},
   "source": [
    "### Feature"
   ]
  },
  {
   "cell_type": "code",
   "execution_count": 4,
   "metadata": {},
   "outputs": [
    {
     "name": "stderr",
     "output_type": "stream",
     "text": [
      "C:\\Users\\vita7\\Anaconda3\\lib\\site-packages\\sklearn\\externals\\joblib\\__init__.py:15: DeprecationWarning: sklearn.externals.joblib is deprecated in 0.21 and will be removed in 0.23. Please import this functionality directly from joblib, which can be installed with: pip install joblib. If this warning is raised when loading pickled models, you may need to re-serialize those models with scikit-learn 0.21+.\n",
      "  warnings.warn(msg, category=DeprecationWarning)\n"
     ]
    }
   ],
   "source": [
    "from entropy import *\n",
    "from mne_features import *"
   ]
  },
  {
   "cell_type": "markdown",
   "metadata": {},
   "source": [
    "### Visualization"
   ]
  },
  {
   "cell_type": "code",
   "execution_count": 5,
   "metadata": {},
   "outputs": [],
   "source": [
    "import matplotlib.pyplot as plt\n",
    "import seaborn as sns\n",
    "%matplotlib inline"
   ]
  },
  {
   "cell_type": "markdown",
   "metadata": {},
   "source": [
    "### Special processing"
   ]
  },
  {
   "cell_type": "code",
   "execution_count": 6,
   "metadata": {},
   "outputs": [],
   "source": [
    "from chaos_master import ssa_core"
   ]
  },
  {
   "cell_type": "markdown",
   "metadata": {},
   "source": [
    "## Parameter"
   ]
  },
  {
   "cell_type": "code",
   "execution_count": 7,
   "metadata": {},
   "outputs": [],
   "source": [
    "# 資料庫 EDF檔路徑\n",
    "recording_path = \"C:/Users/vita7/OneDrive/Documents/Github/EEG_SleepStage_Analysis/data/SC/recordings/\"\n",
    "\n",
    "# 批量開啟檔案的正則表達式\n",
    "record_regu = r\"SC\\d*\\D\\d\\-PSG.edf\"\n",
    "annot_regu = r\"SC\\d*\\D\\D\\-Hypnogram.edf\"\n",
    "\n",
    "# EDF檔通道類型-\n",
    "# eeg - 要選用的EEG通道\n",
    "# misc - 忽略的通道\n",
    "channel_types = {\n",
    "    'EEG Fpz-Cz': 'eeg',\n",
    "    'EEG Pz-Oz': 'misc',\n",
    "    'EOG horizontal': 'misc',\n",
    "    'Resp oro-nasal': 'misc',\n",
    "    'EMG submental': 'misc',\n",
    "    'Temp rectal': 'misc',\n",
    "    'Event marker': 'misc'\n",
    "}\n",
    "\n",
    "# 睡眠階段編碼-\n",
    "# Annotation-EDF檔中的睡眠階段為 W 1 2 3 4 R。\n",
    "# 我們將 3 4 視為一個睡眠階段,因此統一編號為 4。\n",
    "sleep_stage = {\n",
    "    'Sleep stage W': 1,\n",
    "    'Sleep stage 1': 2,\n",
    "    'Sleep stage 2': 3,\n",
    "    'Sleep stage 3': 4,\n",
    "    'Sleep stage 4': 4,\n",
    "    'Sleep stage R': 5\n",
    "}\n",
    "\n",
    "# 事件ID\n",
    "# 對應於編碼後的事件名稱\n",
    "event_id = {\n",
    "    'Sleep stage W': 1,\n",
    "    'Sleep stage 1': 2,\n",
    "    'Sleep stage 2': 3,\n",
    "    'Sleep stage 3/4': 4,\n",
    "    'Sleep stage R': 5,\n",
    "}\n",
    "\n",
    "# 計算函數名稱與函數個數\n",
    "funcs_n = [\n",
    "    'STD', 'PtP_Amp', 'Power', 'Spect_slop', 'Mean_frequency',\n",
    "    'Hjorth_complexity', 'Spect_entropy', 'SVD_entropy', 'Sample_entropy',\n",
    "    'AutoCorr'\n",
    "]\n",
    "funcs = 12\n",
    "\n",
    "# 包含原始信號在內的六個頻帶名稱\n",
    "six_bands_n = [\n",
    "    'EEG Fpz-Cz', 'EEG Fpz-Cz Delta', 'EEG Fpz-Cz Theta', 'EEG Fpz-Cz Alpha',\n",
    "    'EEG Fpz-Cz Sigma', 'EEG Fpz-Cz Beta'\n",
    "]\n",
    "\n",
    "# 比帶名稱\n",
    "ratio_n = [\n",
    "    'EEG Fpz-Cz DOR', 'EEG Fpz-Cz TOR', 'EEG Fpz-Cz AOR', 'EEG Fpz-Cz SOR',\n",
    "    'EEG Fpz-Cz BOR', 'EEG Fpz-Cz TDR', 'EEG Fpz-Cz ADR', 'EEG Fpz-Cz SDR',\n",
    "    'EEG Fpz-Cz BDR', 'EEG Fpz-Cz ATR', 'EEG Fpz-Cz STR', 'EEG Fpz-Cz BTR',\n",
    "    'EEG Fpz-Cz SAR', 'EEG Fpz-Cz BAR', 'EEG Fpz-Cz BSR'\n",
    "]\n",
    "\n",
    "# 頻帶名稱\n",
    "frbands_n = six_bands_n + ratio_n\n",
    "\n",
    "# Epoch持續持間 (s)\n",
    "ep_duration = 10.\n",
    "\n",
    "# 平滑因子:\n",
    "#我們將10s數據量視為1 epoch,但實際上 R&K rule規範1 epoch 為30s數據量,因此平滑因子為3倍。\n",
    "smoothing_factor = 3\n",
    "\n",
    "# 採樣頻率\n",
    "sfreq = 100.\n",
    "\n",
    "# 分析的帶通上下截止頻率\n",
    "# 下截止頻率為 0.5Hz 可以濾除 motion artifact。\n",
    "# 上截止頻率為 30Hz 可以濾除市電 50(60)Hz 干擾,並且EEG訊號涵蓋頻率大多在30Hz以下。\n",
    "l_freq = 0.5\n",
    "h_freq = 30\n",
    "\n",
    "# 通道數\n",
    "chs = 1"
   ]
  },
  {
   "cell_type": "markdown",
   "metadata": {},
   "source": [
    "funcs_n = [\n",
    "    'STD', 'PtP_Amp', 'Zero_crossings', 'Power', 'Spect_slop',\n",
    "    'Mean_frequency', 'Hjorth_complexity', 'Spect_entropy', 'Perm_entropy',\n",
    "    'SVD_entropy', 'Sample_entropy', 'AutoCorr'\n",
    "]"
   ]
  }
 ],
 "metadata": {
  "kernelspec": {
   "display_name": "Python 3",
   "language": "python",
   "name": "python3"
  },
  "language_info": {
   "codemirror_mode": {
    "name": "ipython",
    "version": 3
   },
   "file_extension": ".py",
   "mimetype": "text/x-python",
   "name": "python",
   "nbconvert_exporter": "python",
   "pygments_lexer": "ipython3",
   "version": "3.7.4"
  }
 },
 "nbformat": 4,
 "nbformat_minor": 2
}
