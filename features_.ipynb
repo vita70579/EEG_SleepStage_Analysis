{
 "cells": [
  {
   "cell_type": "code",
   "execution_count": 24,
   "metadata": {},
   "outputs": [],
   "source": [
    "import os\n",
    "import time\n",
    "import numpy as np\n",
    "import mne\n",
    "import pandas as pd\n",
    "from pyentrp import entropy as ent\n",
    "from numba import jit\n",
    "import math\n",
    "from entropy import *"
   ]
  },
  {
   "cell_type": "code",
   "execution_count": 1,
   "metadata": {},
   "outputs": [],
   "source": [
    "def AutoCorr(data ,k = 1):\n",
    "        \n",
    "        data = data.values\n",
    "        m = np.mean(data)\n",
    "        N = len(data)\n",
    "        \n",
    "        res = np.sum([(data[i+k]-m) * (data[i]-m)  for i in range(N-k)]) / np.sum([(data[i+k]-m) ** (2)  for i in range(N-k)])\n",
    "        return res"
   ]
  }
 ],
 "metadata": {
  "kernelspec": {
   "display_name": "Python 3",
   "language": "python",
   "name": "python3"
  },
  "language_info": {
   "codemirror_mode": {
    "name": "ipython",
    "version": 3
   },
   "file_extension": ".py",
   "mimetype": "text/x-python",
   "name": "python",
   "nbconvert_exporter": "python",
   "pygments_lexer": "ipython3",
   "version": "3.7.1"
  }
 },
 "nbformat": 4,
 "nbformat_minor": 2
}
