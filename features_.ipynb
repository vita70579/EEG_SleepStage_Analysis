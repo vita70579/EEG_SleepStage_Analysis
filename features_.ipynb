{
 "cells": [
  {
   "cell_type": "code",
   "execution_count": 19,
   "metadata": {},
   "outputs": [],
   "source": [
    "import os\n",
    "import time\n",
    "import numpy as np\n",
    "import mne\n",
    "import pandas as pd\n",
    "from pyentrp import entropy as ent\n",
    "from numba import jit\n",
    "import math\n",
    "from entropy import *\n",
    "import scipy.signal as signal"
   ]
  },
  {
   "cell_type": "code",
   "execution_count": 20,
   "metadata": {},
   "outputs": [],
   "source": [
    "def AutoCorr(data, k=1):\n",
    "\n",
    "    data = data.values\n",
    "    m = np.mean(data)\n",
    "    N = len(data)\n",
    "\n",
    "    res = np.sum([(data[i + k] - m) * (data[i] - m)\n",
    "                  for i in range(N - k)]) / np.sum([(data[i + k] - m)**(2)\n",
    "                                                    for i in range(N - k)])\n",
    "    return res\n",
    "\n",
    "\n",
    "def ThresholdVol(data, thr, mode='nab_beq'):\n",
    "    data = data.values\n",
    "\n",
    "    return {\n",
    "        'ab_beq': lambda x: len(x[abs(x) >= thr]) + 1,\n",
    "        'ab_s': lambda x: len(x[abs(x) < thr]) + 1,\n",
    "        'nab_beq': lambda x: len(x[x >= thr]) + 1,\n",
    "        'nab_s': lambda x: len(x[x < thr]) + 1\n",
    "    }[mode](data)\n",
    "\n",
    "\n",
    "def Power(data, sfreq):\n",
    "\n",
    "    data = data.values\n",
    "    freq, psd = signal.welch(data, sfreq)\n",
    "\n",
    "    return sum(psd)"
   ]
  }
 ],
 "metadata": {
  "kernelspec": {
   "display_name": "Python 3",
   "language": "python",
   "name": "python3"
  },
  "language_info": {
   "codemirror_mode": {
    "name": "ipython",
    "version": 3
   },
   "file_extension": ".py",
   "mimetype": "text/x-python",
   "name": "python",
   "nbconvert_exporter": "python",
   "pygments_lexer": "ipython3",
   "version": "3.7.1"
  }
 },
 "nbformat": 4,
 "nbformat_minor": 2
}
