{
 "cells": [
  {
   "cell_type": "code",
   "execution_count": 13,
   "metadata": {},
   "outputs": [],
   "source": [
    "%run Package_AND_Parameter.ipynb"
   ]
  },
  {
   "cell_type": "code",
   "execution_count": 14,
   "metadata": {},
   "outputs": [],
   "source": [
    "def AutoCorr(data, k=1):\n",
    "\n",
    "    data = data.values\n",
    "    m = np.mean(data)\n",
    "    N = len(data)\n",
    "\n",
    "    res = np.sum([(data[i + k] - m) * (data[i] - m)\n",
    "                  for i in range(N - k)]) / np.sum([(data[i + k] - m)**(2)\n",
    "                                                    for i in range(N - k)])\n",
    "    return res\n",
    "\n",
    "\n",
    "def ThresholdVol(data, thr, mode='nab_beq'):\n",
    "    data = data.values\n",
    "\n",
    "    return {\n",
    "        'ab_beq': lambda x: len(x[abs(x) >= thr]) + 1,\n",
    "        'ab_s': lambda x: len(x[abs(x) < thr]) + 1,\n",
    "        'nab_beq': lambda x: len(x[x >= thr]) + 1,\n",
    "        'nab_s': lambda x: len(x[x < thr]) + 1\n",
    "    }[mode](data)\n",
    "\n",
    "\n",
    "def Power(data, sfreq):\n",
    "\n",
    "    data = data.values\n",
    "    freq, psd = signal.welch(data, sfreq)\n",
    "\n",
    "    return sum(psd)\n",
    "\n",
    "\n",
    "def Mean_frequency(data, sfreq=100):\n",
    "\n",
    "    data = data.values\n",
    "    freq, psd = signal.welch(data, sfreq)\n",
    "\n",
    "    return np.dot(freq, psd) / sum(psd)\n",
    "\n",
    "def Spect_slop(data,sfreq=100):\n",
    "    \n",
    "    data = data.values\n",
    "    freq, psd = signal.welch(data, sfreq)\n",
    "    slope, intercept, r_value, p_value, slope_std_error = stats.linregress(freq, psd)\n",
    "    \n",
    "    return slope"
   ]
  },
  {
   "cell_type": "markdown",
   "metadata": {},
   "source": [
    "# TEST CODE"
   ]
  },
  {
   "cell_type": "markdown",
   "metadata": {},
   "source": [
    "df = pd.read_csv('test.csv')\n",
    "df.head()"
   ]
  }
 ],
 "metadata": {
  "kernelspec": {
   "display_name": "Python 3",
   "language": "python",
   "name": "python3"
  },
  "language_info": {
   "codemirror_mode": {
    "name": "ipython",
    "version": 3
   },
   "file_extension": ".py",
   "mimetype": "text/x-python",
   "name": "python",
   "nbconvert_exporter": "python",
   "pygments_lexer": "ipython3",
   "version": "3.7.4"
  }
 },
 "nbformat": 4,
 "nbformat_minor": 2
}
